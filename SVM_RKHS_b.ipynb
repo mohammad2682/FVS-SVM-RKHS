{
  "cells": [
    {
      "cell_type": "markdown",
      "metadata": {
        "id": "view-in-github",
        "colab_type": "text"
      },
      "source": [
        "<a href=\"https://colab.research.google.com/github/mohammad2682/FVS-SVM-RKHS/blob/main/SVM_RKHS_b.ipynb\" target=\"_parent\"><img src=\"https://colab.research.google.com/assets/colab-badge.svg\" alt=\"Open In Colab\"/></a>"
      ]
    },
    {
      "cell_type": "code",
      "execution_count": 3,
      "metadata": {
        "id": "jl30doA9WmPP"
      },
      "outputs": [],
      "source": [
        "import pandas as pd\n",
        "import numpy as np\n",
        "import matplotlib.pyplot as plt\n",
        "import os\n",
        "from sklearn.metrics import confusion_matrix\n",
        "from sklearn import datasets"
      ]
    },
    {
      "cell_type": "code",
      "execution_count": 4,
      "metadata": {
        "id": "11iKAeX2WmPW"
      },
      "outputs": [],
      "source": [
        "N_m=5"
      ]
    },
    {
      "cell_type": "code",
      "execution_count": 5,
      "metadata": {
        "colab": {
          "base_uri": "https://localhost:8080/",
          "height": 382
        },
        "id": "V06wPodmWmPX",
        "outputId": "2f5303ec-692f-42d5-fffe-e1733b25f27a"
      },
      "outputs": [
        {
          "output_type": "display_data",
          "data": {
            "text/plain": [
              "array([[-2.88470459, -3.09334521],\n",
              "       [-0.38012753,  0.50960898],\n",
              "       [ 0.08828312,  0.2825261 ],\n",
              "       [-1.08727082,  0.91207538],\n",
              "       [ 0.2095121 ,  1.87770417],\n",
              "       [-1.26292912,  0.70597421],\n",
              "       [-1.02649626,  0.67572811],\n",
              "       [-0.9910247 , -0.92034095],\n",
              "       [ 0.7250405 ,  1.11196313],\n",
              "       [-0.82696232,  1.19851322],\n",
              "       [-1.89255856,  0.40341791],\n",
              "       [-2.87618154, -3.52767119],\n",
              "       [-1.20026133, -1.15842117],\n",
              "       [ 0.04623351,  0.31605039],\n",
              "       [ 0.2248898 ,  2.1926224 ],\n",
              "       [ 0.62833321, -2.45446179],\n",
              "       [-1.87794153, -2.33296202],\n",
              "       [-1.08536788,  0.91049297],\n",
              "       [ 0.68698129, -1.99674589],\n",
              "       [-1.00349992, -1.13101638]])"
            ]
          },
          "metadata": {}
        },
        {
          "output_type": "display_data",
          "data": {
            "text/plain": [
              "array([0, 1, 0, 0, 0, 0, 0, 0, 0, 0, 0, 0, 0, 0, 0, 1, 0, 0, 1, 0])"
            ]
          },
          "metadata": {}
        }
      ],
      "source": [
        "import sklearn\n",
        "A, y=sklearn.datasets.make_classification(n_samples=20,n_features=2,n_informative=2,n_redundant=0,weights=[0.8],random_state=5)\n",
        "display(A)\n",
        "display(y)\n"
      ]
    },
    {
      "cell_type": "code",
      "execution_count": 6,
      "metadata": {
        "id": "nFhpRPSEWmPa"
      },
      "outputs": [],
      "source": [
        "def sigma(A):\n",
        "    N = A.shape[0]\n",
        "    sigma = []\n",
        "    for i in range(N):\n",
        "        for j in range(i+1, N):\n",
        "            sigma.append(np.square(np.linalg.norm(A[i,:]-A[j,:])))\n",
        "\n",
        "    return 0.1 * np.max(sigma)"
      ]
    },
    {
      "cell_type": "code",
      "execution_count": 7,
      "metadata": {
        "colab": {
          "base_uri": "https://localhost:8080/"
        },
        "id": "OHuSEppOWmPa",
        "outputId": "ed404ec0-4dac-4327-d165-ac4d1cca1a0e"
      },
      "outputs": [
        {
          "output_type": "stream",
          "name": "stdout",
          "text": [
            "4.233840225882515\n"
          ]
        }
      ],
      "source": [
        "sig=sigma(A)\n",
        "print(sig)"
      ]
    },
    {
      "cell_type": "code",
      "execution_count": 8,
      "metadata": {
        "id": "x9C1Fj-DWmPb"
      },
      "outputs": [],
      "source": [
        "def K(FV1, FV2):\n",
        "    dist = np.linalg.norm(FV1-FV2)\n",
        "    return np.exp(-1*np.square(dist)/(2*sig))"
      ]
    },
    {
      "cell_type": "code",
      "execution_count": 9,
      "metadata": {
        "id": "5PMJI_kbWmPc"
      },
      "outputs": [],
      "source": [
        "def give_KSS(S):\n",
        "    KSS = []\n",
        "    for i in S:\n",
        "        for j in S:\n",
        "            KSS.append( K(A[i,:], A[j,:]))\n",
        "\n",
        "    return np.array(KSS).reshape((len(S), len(S)))"
      ]
    },
    {
      "cell_type": "code",
      "execution_count": 10,
      "metadata": {
        "colab": {
          "base_uri": "https://localhost:8080/"
        },
        "id": "oYWpCloaWmPd",
        "outputId": "8e09f590-7cc9-4de8-ba63-2c49f8a18dad"
      },
      "outputs": [
        {
          "output_type": "execute_result",
          "data": {
            "text/plain": [
              "array([[1.        , 0.90792768],\n",
              "       [0.90792768, 1.        ]])"
            ]
          },
          "metadata": {},
          "execution_count": 10
        }
      ],
      "source": [
        "give_KSS([1,5])"
      ]
    },
    {
      "cell_type": "code",
      "execution_count": 11,
      "metadata": {
        "id": "9sHJc3VjWmPe"
      },
      "outputs": [],
      "source": [
        "def give_KSx(S, x):\n",
        "    KSx = []\n",
        "    for i in S:\n",
        "        kx = K(A[i,:], x)\n",
        "        KSx.append(kx)\n",
        "    return np.array(KSx).reshape((len(S), 1))"
      ]
    },
    {
      "cell_type": "code",
      "source": [
        "def give_beta(S, x, sig):\n",
        "  KSx = give_KSx(S, x)\n",
        "  KSS = give_KSS(S)\n",
        "  DSS = np.diag(np.diag(np.sqrt(KSS)))\n",
        "  beta = np.dot(np.dot(np.transpose(KSx), np.linalg.inv(KSS)), DSS)\n",
        "  return beta"
      ],
      "metadata": {
        "id": "ndNz2Sq9YbMT"
      },
      "execution_count": 12,
      "outputs": []
    },
    {
      "cell_type": "code",
      "source": [
        "def give_landa(df, minor_cls, major_cls):\n",
        "  minor = df.iloc[minor_cls, :]\n",
        "  major = df.iloc[major_cls, :]\n",
        "  landa = []\n",
        "  for col in df.columns[:-1]:\n",
        "    mean_minor = minor[col].mean()\n",
        "    mean_major = major[col].mean()\n",
        "    var_minor = minor[col].var()\n",
        "    var_major = major[col].var()\n",
        "    landa_i = np.square(mean_minor - mean_major)/(var_minor - var_major)\n",
        "    landa.append(landa_i)\n",
        "  return landa"
      ],
      "metadata": {
        "id": "pndhPgWjct7L"
      },
      "execution_count": 33,
      "outputs": []
    },
    {
      "cell_type": "code",
      "execution_count": 13,
      "metadata": {
        "colab": {
          "base_uri": "https://localhost:8080/",
          "height": 52
        },
        "id": "P4pv0qbxWmPg",
        "outputId": "840998ee-b8db-4162-8bff-fff0b936a86f"
      },
      "outputs": [
        {
          "output_type": "display_data",
          "data": {
            "text/plain": [
              "array([[0.94876077],\n",
              "       [0.99331279]])"
            ]
          },
          "metadata": {}
        }
      ],
      "source": [
        "display(give_KSx([1,5],x=A[6,:]))"
      ]
    },
    {
      "cell_type": "code",
      "execution_count": 14,
      "metadata": {
        "id": "eAaabjzNWmPh"
      },
      "outputs": [],
      "source": [
        "minor_index=np.where(y==1)[0].tolist()\n",
        "lambdamax=-np.inf\n",
        "best_iter=-1\n",
        "total_S=[]\n",
        "for i in minor_index:\n",
        "    current_S=[i]\n",
        "    ctrl=1\n",
        "    while (len(current_S)<N_m and ctrl==1):\n",
        "        current_inv =np.linalg.inv(give_KSS(current_S))\n",
        "        max_LF=-np.inf\n",
        "        max_LF_index=-1\n",
        "        remaining=list(set(range(A.shape[0]))-set(current_S))\n",
        "        #print(remaining)\n",
        "        for j in remaining:\n",
        "            KSx=give_KSx(current_S,A[j,:])\n",
        "            LF =abs(1-((KSx.T).dot(current_inv).dot(KSx)))\n",
        "            #print(LF)\n",
        "            if LF> max_LF:\n",
        "                max_LF=LF\n",
        "                max_LF_index=j\n",
        "        if(max_LF<0.001):\n",
        "            ctrl=0\n",
        "        else:\n",
        "            current_S.append(max_LF_index)\n",
        "    total_S.append(current_S)  \n",
        "    "
      ]
    },
    {
      "cell_type": "code",
      "source": [
        "major_index = list(set(range(A.shape[0]))-set(minor_index))\n",
        "landa_max = -1000\n",
        "for S in total_S:\n",
        "  flag = 0\n",
        "  for vector in A:\n",
        "    beta = give_beta(S, vector, sig = sig)\n",
        "    if flag == 0:\n",
        "      B = beta\n",
        "      flag = -1\n",
        "      continue\n",
        "    B = np.concatenate((B, beta))\n",
        "\n",
        "  B_df = pd.DataFrame(B)\n",
        "  B_df[\"Class\"] = y\n",
        "\n",
        "  landa = give_landa(B_df, minor_index, major_index)\n",
        "  landa_t = np.sum(landa)/len(S)\n",
        "\n",
        "  if landa_t > landa_max:\n",
        "    #print(landa_t)\n",
        "    landa_max = landa_t\n",
        "    best_S = S\n",
        "    best_B = B_df.copy()"
      ],
      "metadata": {
        "colab": {
          "base_uri": "https://localhost:8080/"
        },
        "id": "xYJnAyjkaqNK",
        "outputId": "e7f3f95e-cafc-4434-be12-8fead4f4305b"
      },
      "execution_count": 44,
      "outputs": [
        {
          "output_type": "stream",
          "name": "stdout",
          "text": [
            "0.026019926609763287\n",
            "0.04560025275662379\n"
          ]
        }
      ]
    },
    {
      "cell_type": "code",
      "execution_count": null,
      "metadata": {
        "id": "LwrfuPPaWmPo"
      },
      "outputs": [],
      "source": [
        ""
      ]
    }
  ],
  "metadata": {
    "kernelspec": {
      "display_name": "Python 3 (ipykernel)",
      "language": "python",
      "name": "python3"
    },
    "language_info": {
      "codemirror_mode": {
        "name": "ipython",
        "version": 3
      },
      "file_extension": ".py",
      "mimetype": "text/x-python",
      "name": "python",
      "nbconvert_exporter": "python",
      "pygments_lexer": "ipython3",
      "version": "3.9.12"
    },
    "colab": {
      "name": "SVM-RKHS-b.ipynb",
      "provenance": [],
      "include_colab_link": true
    }
  },
  "nbformat": 4,
  "nbformat_minor": 0
}