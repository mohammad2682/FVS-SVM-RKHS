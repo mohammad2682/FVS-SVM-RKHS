{
  "cells": [
    {
      "cell_type": "markdown",
      "metadata": {
        "id": "view-in-github",
        "colab_type": "text"
      },
      "source": [
        "<a href=\"https://colab.research.google.com/github/mohammad2682/FVS-SVM-RKHS/blob/main/SVM_RKHS_b.ipynb\" target=\"_parent\"><img src=\"https://colab.research.google.com/assets/colab-badge.svg\" alt=\"Open In Colab\"/></a>"
      ]
    },
    {
      "cell_type": "code",
      "execution_count": null,
      "metadata": {
        "id": "jl30doA9WmPP"
      },
      "outputs": [],
      "source": [
        "import pandas as pd\n",
        "import numpy as np\n",
        "import matplotlib.pyplot as plt\n",
        "import os\n",
        "from sklearn.metrics import confusion_matrix\n",
        "from sklearn import datasets, svm\n",
        "import seaborn as sns"
      ]
    },
    {
      "cell_type": "code",
      "execution_count": null,
      "metadata": {
        "id": "11iKAeX2WmPW"
      },
      "outputs": [],
      "source": [
        "N_m=5"
      ]
    },
    {
      "cell_type": "code",
      "execution_count": null,
      "metadata": {
        "colab": {
          "base_uri": "https://localhost:8080/",
          "height": 1000
        },
        "id": "V06wPodmWmPX",
        "outputId": "7ab5a902-6126-45f0-c777-838eea7b776e"
      },
      "outputs": [
        {
          "output_type": "display_data",
          "data": {
            "text/plain": [
              "array([[-0.93329265, -1.27122049],\n",
              "       [-0.76678931,  1.77992147],\n",
              "       [-1.46243922,  1.0292152 ],\n",
              "       [-1.58918963, -0.08327511],\n",
              "       [-0.85366723, -1.34030612],\n",
              "       [-1.99471959,  0.78569221],\n",
              "       [ 0.5641469 ,  0.83419775],\n",
              "       [ 0.33846794, -1.54519884],\n",
              "       [-1.21399342,  0.48949947],\n",
              "       [-0.35152381,  1.05604   ],\n",
              "       [ 1.42192482,  1.30870092],\n",
              "       [ 1.18748491,  0.9314009 ],\n",
              "       [-1.4240168 ,  1.07159472],\n",
              "       [-1.59251151,  0.04851372],\n",
              "       [ 0.18521994,  1.53870339],\n",
              "       [-0.60716266, -1.9878526 ],\n",
              "       [ 1.65055723, -1.19890744],\n",
              "       [-0.36971684,  1.67597179],\n",
              "       [-1.77851943,  0.42337798],\n",
              "       [-0.48167661, -2.04460722],\n",
              "       [-2.14938099,  1.46161062],\n",
              "       [ 0.41611519, -0.78549395],\n",
              "       [-2.74842332,  0.223314  ],\n",
              "       [-0.66800473, -1.7171794 ],\n",
              "       [-1.53130793,  1.05736817],\n",
              "       [-0.22337125,  0.96919875],\n",
              "       [-1.22108822, -0.44175003],\n",
              "       [-2.24822364,  1.51138654],\n",
              "       [ 0.73445806,  1.38310552],\n",
              "       [-0.30456969, -2.50140702],\n",
              "       [ 1.86080686, -0.64150331],\n",
              "       [ 0.89474691, -0.73576219],\n",
              "       [-1.07707343, -0.99161582],\n",
              "       [-0.95793234, -0.95639741],\n",
              "       [-0.6369762 , -1.50479551],\n",
              "       [-2.12181506,  1.04865391],\n",
              "       [-1.38817524, -0.24868859],\n",
              "       [-1.06976424,  0.96605514],\n",
              "       [-0.6660452 , -1.57391858],\n",
              "       [-0.79132642,  1.21694519],\n",
              "       [-0.94788633, -1.09494698],\n",
              "       [-2.28879834,  0.99185675],\n",
              "       [ 0.06247803,  1.39264915],\n",
              "       [-1.14485872, -0.75056827],\n",
              "       [-0.80841696, -1.3552539 ],\n",
              "       [-0.00753035,  0.96130547],\n",
              "       [-1.27191176,  0.67423163],\n",
              "       [-0.6688265 ,  1.40599404],\n",
              "       [-2.33048236,  0.79610366],\n",
              "       [-1.27620109,  0.69202796],\n",
              "       [-0.95278384, -1.08481428],\n",
              "       [ 0.09243795,  1.44550825],\n",
              "       [ 0.33272396, -1.06577791],\n",
              "       [-1.02970093, -0.83116358],\n",
              "       [-0.57480463,  0.86733953],\n",
              "       [-1.71750956,  0.50054718],\n",
              "       [-1.99566063,  1.00972464],\n",
              "       [ 0.71339402,  1.88985067],\n",
              "       [-1.79392778,  1.63824076],\n",
              "       [-1.01835641, -0.79386298],\n",
              "       [ 1.41713525, -1.13359774],\n",
              "       [-0.84882564, -1.14486125],\n",
              "       [-1.17263085,  0.59748753],\n",
              "       [-2.14823656,  0.73341292],\n",
              "       [-1.8475064 ,  0.93410528],\n",
              "       [-1.73590855,  0.32018925],\n",
              "       [-0.88410457, -1.29677335],\n",
              "       [-1.71225864,  0.36790569],\n",
              "       [ 1.14752935,  0.85757003],\n",
              "       [-1.55245701, -0.03361712],\n",
              "       [-0.916108  ,  0.24387214],\n",
              "       [-0.6426723 ,  1.11416524],\n",
              "       [-1.16336461,  0.2323376 ],\n",
              "       [ 1.0495254 , -1.3045768 ],\n",
              "       [-1.13456945, -0.74904734],\n",
              "       [-0.72760814, -1.68038816],\n",
              "       [-2.34109735,  0.45214365],\n",
              "       [-0.79010784, -1.40539861],\n",
              "       [-0.02496008,  1.0155661 ],\n",
              "       [ 1.88879091, -1.27159355],\n",
              "       [-1.58712776,  0.12226867],\n",
              "       [-0.72154413, -1.56319001],\n",
              "       [ 0.32879502,  0.98850726],\n",
              "       [-2.3948648 ,  0.88756031],\n",
              "       [-0.93782739,  0.85591524],\n",
              "       [ 0.59370942, -0.88376243],\n",
              "       [ 0.26891744,  1.76442408],\n",
              "       [-1.61918481,  0.43666029],\n",
              "       [-0.22559299, -2.72499883],\n",
              "       [ 0.09604568,  1.39308904],\n",
              "       [-0.85105576, -1.22979364],\n",
              "       [ 1.74848466,  1.17389035],\n",
              "       [ 1.12440472,  0.58518157],\n",
              "       [-0.50001413,  1.58890117],\n",
              "       [-0.85552575,  1.14539449],\n",
              "       [ 0.57006543,  1.58754104],\n",
              "       [-1.10825112, -0.58414757],\n",
              "       [-1.04162242, -0.88016245],\n",
              "       [-0.64523042, -1.80020594],\n",
              "       [-1.04289249, -0.84330714]])"
            ]
          },
          "metadata": {}
        },
        {
          "output_type": "display_data",
          "data": {
            "text/plain": [
              "array([0, 0, 0, 0, 0, 0, 1, 1, 0, 0, 1, 1, 0, 0, 1, 0, 1, 0, 0, 0, 0, 1,\n",
              "       0, 0, 0, 0, 0, 0, 0, 0, 1, 1, 0, 0, 0, 0, 0, 0, 0, 0, 0, 0, 0, 0,\n",
              "       0, 0, 0, 0, 0, 0, 0, 0, 1, 0, 0, 0, 0, 1, 0, 0, 1, 0, 0, 0, 0, 0,\n",
              "       0, 0, 1, 0, 0, 0, 0, 1, 0, 0, 0, 0, 0, 1, 0, 0, 1, 0, 0, 1, 0, 0,\n",
              "       0, 0, 0, 1, 1, 0, 0, 0, 0, 1, 0, 0])"
            ]
          },
          "metadata": {}
        }
      ],
      "source": [
        "import sklearn\n",
        "A, y=sklearn.datasets.make_classification(n_samples=100,n_features=2,n_informative=2,n_redundant=0,weights=[0.8],random_state=5)\n",
        "display(A)\n",
        "display(y)\n"
      ]
    },
    {
      "cell_type": "code",
      "execution_count": null,
      "metadata": {
        "id": "nFhpRPSEWmPa"
      },
      "outputs": [],
      "source": [
        "def sigma(A):\n",
        "    N = A.shape[0]\n",
        "    sigma = []\n",
        "    for i in range(N):\n",
        "        for j in range(i+1, N):\n",
        "            sigma.append(np.square(np.linalg.norm(A[i,:]-A[j,:])))\n",
        "\n",
        "    return 0.1 * np.max(sigma)"
      ]
    },
    {
      "cell_type": "code",
      "execution_count": null,
      "metadata": {
        "colab": {
          "base_uri": "https://localhost:8080/"
        },
        "id": "OHuSEppOWmPa",
        "outputId": "ed404ec0-4dac-4327-d165-ac4d1cca1a0e"
      },
      "outputs": [
        {
          "output_type": "stream",
          "name": "stdout",
          "text": [
            "4.233840225882515\n"
          ]
        }
      ],
      "source": [
        "sig=sigma(A)\n",
        "print(sig)"
      ]
    },
    {
      "cell_type": "code",
      "execution_count": null,
      "metadata": {
        "id": "x9C1Fj-DWmPb"
      },
      "outputs": [],
      "source": [
        "def K(FV1, FV2):\n",
        "    dist = np.linalg.norm(FV1-FV2)\n",
        "    return np.exp(-1*np.square(dist)/(2*sig))"
      ]
    },
    {
      "cell_type": "code",
      "execution_count": null,
      "metadata": {
        "id": "5PMJI_kbWmPc"
      },
      "outputs": [],
      "source": [
        "def give_KSS(S):\n",
        "    KSS = []\n",
        "    for i in S:\n",
        "        for j in S:\n",
        "            KSS.append( K(A[i,:], A[j,:]))\n",
        "\n",
        "    return np.array(KSS).reshape((len(S), len(S)))"
      ]
    },
    {
      "cell_type": "code",
      "execution_count": null,
      "metadata": {
        "colab": {
          "base_uri": "https://localhost:8080/"
        },
        "id": "oYWpCloaWmPd",
        "outputId": "8e09f590-7cc9-4de8-ba63-2c49f8a18dad"
      },
      "outputs": [
        {
          "output_type": "execute_result",
          "data": {
            "text/plain": [
              "array([[1.        , 0.90792768],\n",
              "       [0.90792768, 1.        ]])"
            ]
          },
          "metadata": {},
          "execution_count": 10
        }
      ],
      "source": [
        "give_KSS([1,5])"
      ]
    },
    {
      "cell_type": "code",
      "execution_count": null,
      "metadata": {
        "id": "9sHJc3VjWmPe"
      },
      "outputs": [],
      "source": [
        "def give_KSx(S, x):\n",
        "    KSx = []\n",
        "    for i in S:\n",
        "        kx = K(A[i,:], x)\n",
        "        KSx.append(kx)\n",
        "    return np.array(KSx).reshape((len(S), 1))"
      ]
    },
    {
      "cell_type": "code",
      "source": [
        "def give_beta(S, x, sig):\n",
        "  KSx = give_KSx(S, x)\n",
        "  KSS = give_KSS(S)\n",
        "  DSS = np.diag(np.diag(np.sqrt(KSS)))\n",
        "  beta = np.dot(np.dot(np.transpose(KSx), np.linalg.inv(KSS)), DSS)\n",
        "  return beta"
      ],
      "metadata": {
        "id": "ndNz2Sq9YbMT"
      },
      "execution_count": null,
      "outputs": []
    },
    {
      "cell_type": "code",
      "source": [
        "def give_landa(df, minor_cls, major_cls):\n",
        "  minor = df.iloc[minor_cls, :]\n",
        "  major = df.iloc[major_cls, :]\n",
        "  landa = []\n",
        "  for col in df.columns[:-1]:\n",
        "    mean_minor = minor[col].mean()\n",
        "    mean_major = major[col].mean()\n",
        "    var_minor = minor[col].var()\n",
        "    var_major = major[col].var()\n",
        "    landa_i = np.square(mean_minor - mean_major)/(var_minor - var_major)\n",
        "    landa.append(landa_i)\n",
        "  return landa"
      ],
      "metadata": {
        "id": "pndhPgWjct7L"
      },
      "execution_count": null,
      "outputs": []
    },
    {
      "cell_type": "code",
      "source": [
        "def minor_major(df):\n",
        "  cls = df.iloc[:,-1].unique()\n",
        "  cls0 = df[df.iloc[:,-1]==cls[0]].shape[0]\n",
        "  cls1 = df[df.iloc[:,-1]==cls[1]].shape[0]\n",
        "  minor = cls[0]\n",
        "  major = cls[1]\n",
        "  if cls0>cls1:\n",
        "    minor = cls[1]\n",
        "    major = cls[0]\n",
        "  return minor, major"
      ],
      "metadata": {
        "id": "9WzpU_GFsw94"
      },
      "execution_count": null,
      "outputs": []
    },
    {
      "cell_type": "code",
      "execution_count": null,
      "metadata": {
        "id": "eAaabjzNWmPh"
      },
      "outputs": [],
      "source": [
        "minor_index=np.where(y==1)[0].tolist()\n",
        "lambdamax=-np.inf\n",
        "best_iter=-1\n",
        "total_S=[]\n",
        "for i in minor_index:\n",
        "    current_S=[i]\n",
        "    ctrl=1\n",
        "    while (len(current_S)<N_m and ctrl==1):\n",
        "        current_inv =np.linalg.inv(give_KSS(current_S))\n",
        "        max_LF=-np.inf\n",
        "        max_LF_index=-1\n",
        "        remaining=list(set(range(A.shape[0]))-set(current_S))\n",
        "        #print(remaining)\n",
        "        for j in remaining:\n",
        "            KSx=give_KSx(current_S,A[j,:])\n",
        "            LF =abs(1-((KSx.T).dot(current_inv).dot(KSx)))\n",
        "            #print(LF)\n",
        "            if LF> max_LF:\n",
        "                max_LF=LF\n",
        "                max_LF_index=j\n",
        "        if(max_LF<0.001):\n",
        "            ctrl=0\n",
        "        else:\n",
        "            current_S.append(max_LF_index)\n",
        "    total_S.append(current_S)  \n",
        "    "
      ]
    },
    {
      "cell_type": "code",
      "source": [
        "major_index = list(set(range(A.shape[0]))-set(minor_index))\n",
        "for current_S in total_S:\n",
        "  flag = 0\n",
        "  for vector in A:\n",
        "    beta = give_beta(current_S, vector, sig = sig)\n",
        "    if flag == 0:\n",
        "      B = beta\n",
        "      flag = -1\n",
        "      continue\n",
        "    B = np.concatenate((B, beta))\n",
        "\n",
        "  B_df = pd.DataFrame(B)\n",
        "  B_df[\"Class\"] = y\n",
        "\n",
        "  landa = give_landa(B_df, minor_index, major_index)\n",
        "  landa_t = np.sum(landa)/len(current_S)\n",
        "\n",
        "  if landa_t > lambdamax:\n",
        "    #print(landa_t)\n",
        "    lambdamax = landa_t\n",
        "    best_iter = current_S\n",
        "    best_B = B_df.copy()"
      ],
      "metadata": {
        "id": "xYJnAyjkaqNK"
      },
      "execution_count": 25,
      "outputs": []
    },
    {
      "cell_type": "code",
      "source": [
        "model = svm.SVC(C = sig)"
      ],
      "metadata": {
        "id": "rw1IOtYjp4o0"
      },
      "execution_count": 26,
      "outputs": []
    },
    {
      "cell_type": "code",
      "source": [
        "model.fit(A[best_iter, :], y[best_iter])"
      ],
      "metadata": {
        "colab": {
          "base_uri": "https://localhost:8080/"
        },
        "id": "cpNsVEnfqLO8",
        "outputId": "8e2df35b-6732-4ab0-916b-9b0844865777"
      },
      "execution_count": 27,
      "outputs": [
        {
          "output_type": "execute_result",
          "data": {
            "text/plain": [
              "SVC(C=2.4859867613554454)"
            ]
          },
          "metadata": {},
          "execution_count": 27
        }
      ]
    },
    {
      "cell_type": "code",
      "source": [
        "model.score(A, y)"
      ],
      "metadata": {
        "colab": {
          "base_uri": "https://localhost:8080/"
        },
        "id": "W8KA3ZIhsWMK",
        "outputId": "ac9e87a7-98a1-45c5-dd75-8392a5c4f8d8"
      },
      "execution_count": 28,
      "outputs": [
        {
          "output_type": "execute_result",
          "data": {
            "text/plain": [
              "0.87"
            ]
          },
          "metadata": {},
          "execution_count": 28
        }
      ]
    },
    {
      "cell_type": "code",
      "source": [
        "df = pd.DataFrame(A)\n",
        "df[\"Class\"] = y\n",
        "minor_cls, major_cls = minor_major(df)\n",
        "cls_types= np.array([major_cls, minor_cls])"
      ],
      "metadata": {
        "id": "tenjB8K6sYj4"
      },
      "execution_count": 29,
      "outputs": []
    },
    {
      "cell_type": "code",
      "source": [
        "cls_types"
      ],
      "metadata": {
        "colab": {
          "base_uri": "https://localhost:8080/"
        },
        "id": "WU4ReAlosrCR",
        "outputId": "74a53ec7-0866-452a-b109-358ab717386a"
      },
      "execution_count": null,
      "outputs": [
        {
          "output_type": "execute_result",
          "data": {
            "text/plain": [
              "array([0, 1])"
            ]
          },
          "metadata": {},
          "execution_count": 79
        }
      ]
    },
    {
      "cell_type": "code",
      "source": [
        "Y_pred = model.predict(A)\n",
        "Y_true = y\n",
        "cm = confusion_matrix(Y_true, Y_pred)\n",
        "plt.figure(figsize=(8, 8))\n",
        "ax = sns.heatmap(cm, cmap=plt.cm.Greens, annot=True, square=True, xticklabels=cls_types, yticklabels=cls_types)\n",
        "ax.set_ylabel('Actual')\n",
        "ax.set_xlabel('Predicted')"
      ],
      "metadata": {
        "colab": {
          "base_uri": "https://localhost:8080/",
          "height": 483
        },
        "id": "ZCh8Llx5tXkh",
        "outputId": "1ca4ee52-75c3-4a88-8971-bc758f0cf69c"
      },
      "execution_count": null,
      "outputs": [
        {
          "output_type": "execute_result",
          "data": {
            "text/plain": [
              "Text(0.5, 89.87999999999997, 'Predicted')"
            ]
          },
          "metadata": {},
          "execution_count": 80
        },
        {
          "output_type": "display_data",
          "data": {
            "text/plain": [
              "<Figure size 576x576 with 2 Axes>"
            ],
            "image/png": "[encoded data removed]"
          },
          "metadata": {
            "needs_background": "light"
          }
        }
      ]
    },
    {
      "cell_type": "code",
      "source": [
        "TN = cm[0][0]\n",
        "TP = cm[1][1]\n",
        "FN = cm[0][1]\n",
        "FP = cm[1][0]\n",
        "\n",
        "TPR = TP / (TP+FN)\n",
        "TNR = TN / (TN+FP)\n",
        "precision = TP / (TP+FP)"
      ],
      "metadata": {
        "id": "3Uc5vn9_tkGJ"
      },
      "execution_count": null,
      "outputs": []
    },
    {
      "cell_type": "code",
      "source": [
        "G_mean = np.sqrt(TPR*TNR)\n",
        "F_measure = (2*precision*TPR)/(precision+TPR)\n",
        "\n",
        "print(\"G-mean for threshold of is: \", G_mean)\n",
        "print(\"F-measure for threshold of is: \", F_measure)\n",
        "print(\"Precision is: \", precision)"
      ],
      "metadata": {
        "colab": {
          "base_uri": "https://localhost:8080/"
        },
        "id": "YycVTEq6t3x3",
        "outputId": "466aa319-d2d8-487a-f98b-1bafb02f036e"
      },
      "execution_count": null,
      "outputs": [
        {
          "output_type": "stream",
          "name": "stdout",
          "text": [
            "G-mean for threshold of is:  0.764864943864563\n",
            "F-measure for threshold of is:  0.7307692307692308\n",
            "Precision is:  0.95\n"
          ]
        }
      ]
    },
    {
      "cell_type": "code",
      "source": [
        ""
      ],
      "metadata": {
        "id": "AK8meyG2t_GN"
      },
      "execution_count": null,
      "outputs": []
    }
  ],
  "metadata": {
    "kernelspec": {
      "display_name": "Python 3 (ipykernel)",
      "language": "python",
      "name": "python3"
    },
    "language_info": {
      "codemirror_mode": {
        "name": "ipython",
        "version": 3
      },
      "file_extension": ".py",
      "mimetype": "text/x-python",
      "name": "python",
      "nbconvert_exporter": "python",
      "pygments_lexer": "ipython3",
      "version": "3.9.12"
    },
    "colab": {
      "name": "SVM-RKHS-b.ipynb",
      "provenance": [],
      "include_colab_link": true
    }
  },
  "nbformat": 4,
  "nbformat_minor": 0
}