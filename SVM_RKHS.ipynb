{
  "nbformat": 4,
  "nbformat_minor": 0,
  "metadata": {
    "colab": {
      "name": "SVM-RKHS.ipynb",
      "provenance": [],
      "include_colab_link": true
    },
    "kernelspec": {
      "name": "python3",
      "display_name": "Python 3"
    },
    "language_info": {
      "name": "python"
    }
  },
  "cells": [
    {
      "cell_type": "markdown",
      "metadata": {
        "id": "view-in-github",
        "colab_type": "text"
      },
      "source": [
        "<a href=\"https://colab.research.google.com/github/mohammad2682/FVS-SVM-RKHS/blob/main/SVM_RKHS.ipynb\" target=\"_parent\"><img src=\"https://colab.research.google.com/assets/colab-badge.svg\" alt=\"Open In Colab\"/></a>"
      ]
    },
    {
      "cell_type": "code",
      "execution_count": 1,
      "metadata": {
        "id": "aTY1BRRDvfAs"
      },
      "outputs": [],
      "source": [
        "import pandas as pd\n",
        "import numpy as np\n",
        "import matplotlib.pyplot as plt\n",
        "import os\n",
        "from sklearn.metrics import confusion_matrix\n",
        "import seaborn as sns\n",
        "from IPython.display import clear_output"
      ]
    },
    {
      "cell_type": "code",
      "source": [
        "!git clone https://github.com/mohammad2682/FVS-SVM-RKHS"
      ],
      "metadata": {
        "id": "FckMrNAZvshl",
        "colab": {
          "base_uri": "https://localhost:8080/"
        },
        "outputId": "9b8b5db8-4622-4c13-c742-8adb6424e45b"
      },
      "execution_count": 2,
      "outputs": [
        {
          "output_type": "stream",
          "name": "stdout",
          "text": [
            "Cloning into 'FVS-SVM-RKHS'...\n",
            "remote: Enumerating objects: 113, done.\u001b[K\n",
            "remote: Counting objects: 100% (113/113), done.\u001b[K\n",
            "remote: Compressing objects: 100% (96/96), done.\u001b[K\n",
            "remote: Total 113 (delta 40), reused 41 (delta 17), pack-reused 0\u001b[K\n",
            "Receiving objects: 100% (113/113), 923.77 KiB | 272.00 KiB/s, done.\n",
            "Resolving deltas: 100% (40/40), done.\n"
          ]
        }
      ]
    },
    {
      "cell_type": "code",
      "source": [
        "def sigma(df):\n",
        "  N = df.shape[0]\n",
        "  sigma = []\n",
        "  for i in range(N):\n",
        "    for j in range(i+1, N):\n",
        "      x_i = df.iloc[[i], :-1]\n",
        "      x_j = df.iloc[[j], :-1]\n",
        "      sigma.append(np.linalg.norm(x_i.values - x_j.values))\n",
        "  return 0.1 * np.max(sigma)"
      ],
      "metadata": {
        "id": "frI-fAhCf3qO"
      },
      "execution_count": 3,
      "outputs": []
    },
    {
      "cell_type": "code",
      "source": [
        "def K(FV1, FV2, sig):\n",
        "  dist = np.linalg.norm(FV1-FV2)\n",
        "  return np.exp(-1*np.square(dist)/(2*sig))"
      ],
      "metadata": {
        "id": "c3-rXA9xaqe0"
      },
      "execution_count": 79,
      "outputs": []
    },
    {
      "cell_type": "code",
      "source": [
        "def give_KSS(S, sig):\n",
        "  KSS = []\n",
        "  for vec1 in S:\n",
        "    for vec2 in S:\n",
        "      k = K(np.array(vec1), np.array(vec2), sig = sig)\n",
        "      KSS.append(k)\n",
        "\n",
        "  return np.array(KSS).reshape((len(S), len(S)))"
      ],
      "metadata": {
        "id": "A8b9TgKaZwMq"
      },
      "execution_count": 91,
      "outputs": []
    },
    {
      "cell_type": "code",
      "source": [
        "def give_KSx(S, x, sig):\n",
        "  KSx = []\n",
        "  for s in S:\n",
        "    kx = K(np.array(s), x, sig = sig)\n",
        "    KSx.append(kx)\n",
        "  return np.array(KSx).reshape((len(S), 1))"
      ],
      "metadata": {
        "id": "MQuA7GCggQMB"
      },
      "execution_count": 92,
      "outputs": []
    },
    {
      "cell_type": "code",
      "source": [
        "def minor_major(df):\n",
        "  cls = df.iloc[:,-1].unique()\n",
        "  cls0 = df[df.iloc[:,-1]==cls[0]].shape[0]\n",
        "  cls1 = df[df.iloc[:,-1]==cls[1]].shape[0]\n",
        "  minor = cls[0]\n",
        "  major = cls[1]\n",
        "  if cls0>cls1:\n",
        "    minor = cls[1]\n",
        "    major = cls[0]\n",
        "  return minor, major"
      ],
      "metadata": {
        "id": "X-cwXA2pLuHK"
      },
      "execution_count": 93,
      "outputs": []
    },
    {
      "cell_type": "code",
      "source": [
        "def S_creator(df, FV1, SN):\n",
        "  df_new = df.drop(index = FV1.index)\n",
        "  FV1 = FV1.iloc[0].values\n",
        "  tau = min(0.001, 1/df.shape[0]) #minimum of 0.001, 1/N\n",
        "  S = [list(FV1)]\n",
        "  cnt = 1\n",
        "  for vec in df_new.iloc[:, :-1].values:\n",
        "    KSx = give_KSx(S, vec, sig = sig)\n",
        "    KSS = give_KSS(S, sig = sig)\n",
        "    LF = abs(1-(np.dot(np.dot(np.transpose(KSx), np.linalg.inv(KSS)), KSx)))\n",
        "    if LF > tau:\n",
        "      S.append(list(vec))\n",
        "      cnt += 1\n",
        "      \n",
        "      clear_output(wait=True)\n",
        "      print(str((cnt/SN)*100)+\"%\")\n",
        "      \n",
        "      if cnt == SN:\n",
        "        break\n",
        "  return S"
      ],
      "metadata": {
        "id": "2rAFLpiN51-c"
      },
      "execution_count": 94,
      "outputs": []
    },
    {
      "cell_type": "code",
      "source": [
        "def give_landa(df, minor_cls, major_cls):\n",
        "  minor = df[df[\"Class\"] == minor_cls]\n",
        "  major = df[df[\"Class\"] == major_cls]\n",
        "  landa = []\n",
        "  for col in df.columns[:-1]:\n",
        "    mean_minor = minor[col].mean()\n",
        "    mean_major = major[col].mean()\n",
        "    var_minor = minor[col].var()\n",
        "    var_major = major[col].var()\n",
        "    landa_i = np.square(mean_minor - mean_major)/(var_minor - var_major)\n",
        "    landa.append(landa_i)\n",
        "  return landa"
      ],
      "metadata": {
        "id": "Ey7FFlegNVky"
      },
      "execution_count": 95,
      "outputs": []
    },
    {
      "cell_type": "code",
      "source": [
        "df = pd.read_csv(\"FVS-SVM-RKHS/datasets/shuttle-6_vs_2-3.csv\")\n",
        "df.head()"
      ],
      "metadata": {
        "colab": {
          "base_uri": "https://localhost:8080/",
          "height": 206
        },
        "id": "fHkTbNeeaY33",
        "outputId": "ad0715d2-1cdb-4096-dfef-23729b91814f"
      },
      "execution_count": 96,
      "outputs": [
        {
          "output_type": "execute_result",
          "data": {
            "text/plain": [
              "   A1  A2   A3   A4  A5  A6  A7   A8   A9     Class\n",
              "0  70  57   82    0 -42  -4  12  126  114  negative\n",
              "1  37 -38  106 -104  30 -17  69   75    6  negative\n",
              "2  52 -30   79    0   0   0  27   79   52  negative\n",
              "3  78 -33   88   -4   8   0  10   81   70  negative\n",
              "4  68 -27  107    0  60  -5  38   47   10  negative"
            ],
            "text/html": [
              "\n",
              "  <div id=\"df-24d1c045-4483-428e-ade0-623f7b80746b\">\n",
              "    <div class=\"colab-df-container\">\n",
              "      <div>\n",
              "<style scoped>\n",
              "    .dataframe tbody tr th:only-of-type {\n",
              "        vertical-align: middle;\n",
              "    }\n",
              "\n",
              "    .dataframe tbody tr th {\n",
              "        vertical-align: top;\n",
              "    }\n",
              "\n",
              "    .dataframe thead th {\n",
              "        text-align: right;\n",
              "    }\n",
              "</style>\n",
              "<table border=\"1\" class=\"dataframe\">\n",
              "  <thead>\n",
              "    <tr style=\"text-align: right;\">\n",
              "      <th></th>\n",
              "      <th>A1</th>\n",
              "      <th>A2</th>\n",
              "      <th>A3</th>\n",
              "      <th>A4</th>\n",
              "      <th>A5</th>\n",
              "      <th>A6</th>\n",
              "      <th>A7</th>\n",
              "      <th>A8</th>\n",
              "      <th>A9</th>\n",
              "      <th>Class</th>\n",
              "    </tr>\n",
              "  </thead>\n",
              "  <tbody>\n",
              "    <tr>\n",
              "      <th>0</th>\n",
              "      <td>70</td>\n",
              "      <td>57</td>\n",
              "      <td>82</td>\n",
              "      <td>0</td>\n",
              "      <td>-42</td>\n",
              "      <td>-4</td>\n",
              "      <td>12</td>\n",
              "      <td>126</td>\n",
              "      <td>114</td>\n",
              "      <td>negative</td>\n",
              "    </tr>\n",
              "    <tr>\n",
              "      <th>1</th>\n",
              "      <td>37</td>\n",
              "      <td>-38</td>\n",
              "      <td>106</td>\n",
              "      <td>-104</td>\n",
              "      <td>30</td>\n",
              "      <td>-17</td>\n",
              "      <td>69</td>\n",
              "      <td>75</td>\n",
              "      <td>6</td>\n",
              "      <td>negative</td>\n",
              "    </tr>\n",
              "    <tr>\n",
              "      <th>2</th>\n",
              "      <td>52</td>\n",
              "      <td>-30</td>\n",
              "      <td>79</td>\n",
              "      <td>0</td>\n",
              "      <td>0</td>\n",
              "      <td>0</td>\n",
              "      <td>27</td>\n",
              "      <td>79</td>\n",
              "      <td>52</td>\n",
              "      <td>negative</td>\n",
              "    </tr>\n",
              "    <tr>\n",
              "      <th>3</th>\n",
              "      <td>78</td>\n",
              "      <td>-33</td>\n",
              "      <td>88</td>\n",
              "      <td>-4</td>\n",
              "      <td>8</td>\n",
              "      <td>0</td>\n",
              "      <td>10</td>\n",
              "      <td>81</td>\n",
              "      <td>70</td>\n",
              "      <td>negative</td>\n",
              "    </tr>\n",
              "    <tr>\n",
              "      <th>4</th>\n",
              "      <td>68</td>\n",
              "      <td>-27</td>\n",
              "      <td>107</td>\n",
              "      <td>0</td>\n",
              "      <td>60</td>\n",
              "      <td>-5</td>\n",
              "      <td>38</td>\n",
              "      <td>47</td>\n",
              "      <td>10</td>\n",
              "      <td>negative</td>\n",
              "    </tr>\n",
              "  </tbody>\n",
              "</table>\n",
              "</div>\n",
              "      <button class=\"colab-df-convert\" onclick=\"convertToInteractive('df-24d1c045-4483-428e-ade0-623f7b80746b')\"\n",
              "              title=\"Convert this dataframe to an interactive table.\"\n",
              "              style=\"display:none;\">\n",
              "        \n",
              "  <svg xmlns=\"http://www.w3.org/2000/svg\" height=\"24px\"viewBox=\"0 0 24 24\"\n",
              "       width=\"24px\">\n",
              "    <path d=\"M0 0h24v24H0V0z\" fill=\"none\"/>\n",
              "    <path d=\"M18.56 5.44l.94 2.06.94-2.06 2.06-.94-2.06-.94-.94-2.06-.94 2.06-2.06.94zm-11 1L8.5 8.5l.94-2.06 2.06-.94-2.06-.94L8.5 2.5l-.94 2.06-2.06.94zm10 10l.94 2.06.94-2.06 2.06-.94-2.06-.94-.94-2.06-.94 2.06-2.06.94z\"/><path d=\"M17.41 7.96l-1.37-1.37c-.4-.4-.92-.59-1.43-.59-.52 0-1.04.2-1.43.59L10.3 9.45l-7.72 7.72c-.78.78-.78 2.05 0 2.83L4 21.41c.39.39.9.59 1.41.59.51 0 1.02-.2 1.41-.59l7.78-7.78 2.81-2.81c.8-.78.8-2.07 0-2.86zM5.41 20L4 18.59l7.72-7.72 1.47 1.35L5.41 20z\"/>\n",
              "  </svg>\n",
              "      </button>\n",
              "      \n",
              "  <style>\n",
              "    .colab-df-container {\n",
              "      display:flex;\n",
              "      flex-wrap:wrap;\n",
              "      gap: 12px;\n",
              "    }\n",
              "\n",
              "    .colab-df-convert {\n",
              "      background-color: #E8F0FE;\n",
              "      border: none;\n",
              "      border-radius: 50%;\n",
              "      cursor: pointer;\n",
              "      display: none;\n",
              "      fill: #1967D2;\n",
              "      height: 32px;\n",
              "      padding: 0 0 0 0;\n",
              "      width: 32px;\n",
              "    }\n",
              "\n",
              "    .colab-df-convert:hover {\n",
              "      background-color: #E2EBFA;\n",
              "      box-shadow: 0px 1px 2px rgba(60, 64, 67, 0.3), 0px 1px 3px 1px rgba(60, 64, 67, 0.15);\n",
              "      fill: #174EA6;\n",
              "    }\n",
              "\n",
              "    [theme=dark] .colab-df-convert {\n",
              "      background-color: #3B4455;\n",
              "      fill: #D2E3FC;\n",
              "    }\n",
              "\n",
              "    [theme=dark] .colab-df-convert:hover {\n",
              "      background-color: #434B5C;\n",
              "      box-shadow: 0px 1px 3px 1px rgba(0, 0, 0, 0.15);\n",
              "      filter: drop-shadow(0px 1px 2px rgba(0, 0, 0, 0.3));\n",
              "      fill: #FFFFFF;\n",
              "    }\n",
              "  </style>\n",
              "\n",
              "      <script>\n",
              "        const buttonEl =\n",
              "          document.querySelector('#df-24d1c045-4483-428e-ade0-623f7b80746b button.colab-df-convert');\n",
              "        buttonEl.style.display =\n",
              "          google.colab.kernel.accessAllowed ? 'block' : 'none';\n",
              "\n",
              "        async function convertToInteractive(key) {\n",
              "          const element = document.querySelector('#df-24d1c045-4483-428e-ade0-623f7b80746b');\n",
              "          const dataTable =\n",
              "            await google.colab.kernel.invokeFunction('convertToInteractive',\n",
              "                                                     [key], {});\n",
              "          if (!dataTable) return;\n",
              "\n",
              "          const docLinkHtml = 'Like what you see? Visit the ' +\n",
              "            '<a target=\"_blank\" href=https://colab.research.google.com/notebooks/data_table.ipynb>data table notebook</a>'\n",
              "            + ' to learn more about interactive tables.';\n",
              "          element.innerHTML = '';\n",
              "          dataTable['output_type'] = 'display_data';\n",
              "          await google.colab.output.renderOutput(dataTable, element);\n",
              "          const docLink = document.createElement('div');\n",
              "          docLink.innerHTML = docLinkHtml;\n",
              "          element.appendChild(docLink);\n",
              "        }\n",
              "      </script>\n",
              "    </div>\n",
              "  </div>\n",
              "  "
            ]
          },
          "metadata": {},
          "execution_count": 96
        }
      ]
    },
    {
      "cell_type": "code",
      "source": [
        "#df_test1 = df.iloc[:7, :]\n",
        "#df_test2 = df.iloc[-25:, :]\n",
        "#df_test = pd.concat([df_test1, df_test2]).reset_index(drop=True)\n",
        "#df_test = df_test[[\"preg\", \"plas\", \"skin\", \"class\"]]\n",
        "\n",
        "# if you want to train with whole data, uncomment below line\n",
        "df_train = df.copy()"
      ],
      "metadata": {
        "id": "1b0nzG00vXIE"
      },
      "execution_count": 97,
      "outputs": []
    },
    {
      "cell_type": "code",
      "source": [
        "sig = sigma(df = df_train)\n",
        "minor_cls, major_cls = minor_major(df_train)"
      ],
      "metadata": {
        "id": "8iiS7hHv8LYk"
      },
      "execution_count": 98,
      "outputs": []
    },
    {
      "cell_type": "code",
      "source": [
        "print(sig)\n",
        "print(minor_cls, major_cls)"
      ],
      "metadata": {
        "id": "8kYuhfhmRYQI",
        "outputId": "3f8d857f-f73d-4343-f182-5d07e4edd4db",
        "colab": {
          "base_uri": "https://localhost:8080/"
        }
      },
      "execution_count": 99,
      "outputs": [
        {
          "output_type": "stream",
          "name": "stdout",
          "text": [
            "316.8348939116397\n",
            "positive negative\n"
          ]
        }
      ]
    },
    {
      "cell_type": "code",
      "source": [
        "if \"Class\" in df_train:\n",
        "  df_train.rename(columns={\"Class\": \"class\"}, inplace= True)\n",
        "df_train[\"class\"].value_counts()"
      ],
      "metadata": {
        "colab": {
          "base_uri": "https://localhost:8080/"
        },
        "id": "Bh1f_x9R9DYY",
        "outputId": "6295399a-5e66-40e1-fca4-92d5a3e040c4"
      },
      "execution_count": 100,
      "outputs": [
        {
          "output_type": "execute_result",
          "data": {
            "text/plain": [
              "negative    220\n",
              "positive     10\n",
              "Name: class, dtype: int64"
            ]
          },
          "metadata": {},
          "execution_count": 100
        }
      ]
    },
    {
      "cell_type": "code",
      "source": [
        "SN = 20\n",
        "minor_df = df_train[df_train[\"class\"]==minor_cls]\n",
        "S_T = []\n",
        "FV_T = pd.DataFrame()\n",
        "for i in range(minor_df.shape[0]):\n",
        "  FV1 = minor_df.iloc[[i], :-1]\n",
        "  S_T.append(S_creator(df_train, FV1, SN))\n",
        "  FV_T = pd.concat([FV_T, FV1])"
      ],
      "metadata": {
        "id": "gP-yaPe-6EL2",
        "outputId": "8ee5dc8e-e1f5-4240-b8cf-2b87f0dc7606",
        "colab": {
          "base_uri": "https://localhost:8080/"
        }
      },
      "execution_count": 101,
      "outputs": [
        {
          "output_type": "stream",
          "name": "stdout",
          "text": [
            "100.0%\n"
          ]
        }
      ]
    },
    {
      "cell_type": "code",
      "source": [
        "landa_max = -1000\n",
        "tot = np.shape(S_T)[-1]\n",
        "for i, S in enumerate(S_T):\n",
        "\n",
        "  FV1 = FV_T.iloc[[i]]\n",
        "  df_new = df_train.drop(index = FV1.index, axis = 0 )\n",
        "  cls = []\n",
        "  flag = 0\n",
        "  #sort Data\n",
        "  for vector in df_new.values:\n",
        "    vec = np.array(list(vector[:-1]))\n",
        "    cls.append(vector[-1])\n",
        "    KSx = give_KSx(S, vec, sig = sig)\n",
        "    KSS = give_KSS(S, sig = sig)\n",
        "    DSS = np.diag(np.diag(np.sqrt(KSS)))\n",
        "    beta = np.dot(np.transpose(KSx), np.linalg.inv(KSS))\n",
        "    #beta = np.dot(np.dot(np.transpose(KSx), np.linalg.inv(KSS)), DSS)\n",
        "    if flag == 0:\n",
        "      B = beta\n",
        "      flag = -1\n",
        "      continue\n",
        "    B = np.concatenate((B, beta))\n",
        "\n",
        "  B_df = pd.DataFrame(B)\n",
        "  B_df[\"Class\"] = cls\n",
        "\n",
        "  '''\n",
        "  a = B_df[B_df[\"Class\"] == minor_cls]\n",
        "  Npos = a.shape[0] * -1\n",
        "  a = pd.concat([a,a])\n",
        "  a = pd.concat([a, B_df[B_df[\"Class\"]==major_cls].iloc[:Npos,:]])\n",
        "  '''\n",
        "\n",
        "  landa = give_landa(B_df, minor_cls, major_cls)\n",
        "\n",
        "  clear_output(wait=True)\n",
        "  print(str((i/tot)*100)+\"%\")\n",
        "\n",
        "  landa_t = np.sum(landa)/len(S)\n",
        "  if landa_t > landa_max:\n",
        "    #print(landa_t)\n",
        "    landa_max = landa_t\n",
        "    best_S = S"
      ],
      "metadata": {
        "id": "Llzfo9iI4V25",
        "outputId": "e8f40028-95f6-4a87-a32c-ad147c52be12",
        "colab": {
          "base_uri": "https://localhost:8080/"
        }
      },
      "execution_count": 103,
      "outputs": [
        {
          "output_type": "stream",
          "name": "stdout",
          "text": [
            "100.0%\n"
          ]
        }
      ]
    },
    {
      "cell_type": "markdown",
      "source": [
        "## Second Section"
      ],
      "metadata": {
        "id": "5wYfkoa5jpx9"
      }
    },
    {
      "cell_type": "code",
      "source": [
        "for m in range(np.shape(best_S)[0]):\n",
        "  omeg_m = []\n",
        "  for n in range(np.shape(best_S)[0]):\n",
        "    omeg_mn = np.sum(np.dot(B_df.iloc[:, m], B_df.iloc[:, n]))\n",
        "    omeg_m.insert(n, omeg_mn)\n",
        "  if m == 0:\n",
        "    omeg = omeg_m\n",
        "    continue\n",
        "  omeg = np.concatenate((omeg, omeg_m))\n",
        "omeg = np.array(omeg).reshape((np.shape(best_S)[0], np.shape(best_S)[0]))"
      ],
      "metadata": {
        "id": "KKTW7CUj_gm6"
      },
      "execution_count": 104,
      "outputs": []
    },
    {
      "cell_type": "code",
      "source": [
        "B_df.iloc[:, 0]"
      ],
      "metadata": {
        "id": "uYM8eAuPERe1",
        "outputId": "1f72c1fe-aa7b-49d8-eb74-5715eeea210a",
        "colab": {
          "base_uri": "https://localhost:8080/"
        }
      },
      "execution_count": 105,
      "outputs": [
        {
          "output_type": "execute_result",
          "data": {
            "text/plain": [
              "0      0.0\n",
              "1      0.0\n",
              "2      0.0\n",
              "3      0.0\n",
              "4      0.0\n",
              "      ... \n",
              "224    0.0\n",
              "225    0.0\n",
              "226    0.0\n",
              "227    0.0\n",
              "228    0.0\n",
              "Name: 0, Length: 229, dtype: float64"
            ]
          },
          "metadata": {},
          "execution_count": 105
        }
      ]
    },
    {
      "cell_type": "code",
      "source": [
        "H = []\n",
        "for m in range(np.shape(best_S)[0]):\n",
        "  H_j = np.sum(B_df.iloc[m, :-1])\n",
        "  H_m = np.sum(np.dot(B_df.iloc[:,m], (1-H_j)))\n",
        "  H.insert(m, H_m)"
      ],
      "metadata": {
        "id": "mtZiwxS_An-l"
      },
      "execution_count": 45,
      "outputs": []
    },
    {
      "cell_type": "code",
      "source": [
        "tau = H.copy()"
      ],
      "metadata": {
        "id": "PcYbQbSEir_6"
      },
      "execution_count": 46,
      "outputs": []
    },
    {
      "cell_type": "code",
      "source": [
        "C = []\n",
        "for m in range(np.shape(best_S)[0]):\n",
        "  c_val = 1 - np.sum(B_df.iloc[m, :-1])\n",
        "  C.insert(m, c_val)\n",
        "C = np.sum(np.square(C))"
      ],
      "metadata": {
        "id": "I173c2EVBqwx"
      },
      "execution_count": 47,
      "outputs": []
    },
    {
      "cell_type": "code",
      "source": [
        "B_df[\"y_i\"] = B_df['Class']\n",
        "B_df[\"y_i\"].replace({minor_cls: -1, major_cls: 1}, inplace=True)"
      ],
      "metadata": {
        "id": "2Qr7X3V_kDtS"
      },
      "execution_count": 48,
      "outputs": []
    },
    {
      "cell_type": "code",
      "source": [
        "P = []\n",
        "for m in range(np.shape(best_S)[0]):\n",
        "  P_m = np.sum(np.dot(B_df.iloc[:, m], B_df[\"y_i\"]))\n",
        "  P.insert(m, P_m)"
      ],
      "metadata": {
        "id": "qRZFTC96kUO3"
      },
      "execution_count": 49,
      "outputs": []
    },
    {
      "cell_type": "code",
      "source": [
        "L = np.sum(np.dot((1 - B_df.iloc[:, :-2].sum(axis=1)), B_df.iloc[:, -1]))"
      ],
      "metadata": {
        "id": "3B-5qDTekVpH"
      },
      "execution_count": 50,
      "outputs": []
    },
    {
      "cell_type": "code",
      "source": [
        "H = np.array(H).reshape((-1, 1))\n",
        "tau = np.array(tau).reshape((-1, 1))\n",
        "P = np.array(P).reshape((-1, 1))"
      ],
      "metadata": {
        "id": "z7iaLwGbru6B"
      },
      "execution_count": 51,
      "outputs": []
    },
    {
      "cell_type": "code",
      "source": [
        "row_a = np.concatenate((omeg, H), axis = 1)\n",
        "row_b = np.append(tau.transpose(), C)\n",
        "row_b = row_b.reshape((1,row_b.shape[0]))\n",
        "A = np.concatenate((row_a, row_b), axis = 0)"
      ],
      "metadata": {
        "id": "PE1vttVZR0SN"
      },
      "execution_count": 52,
      "outputs": []
    },
    {
      "cell_type": "code",
      "source": [
        "Z = np.append(P, L).reshape((-1, 1))"
      ],
      "metadata": {
        "id": "uw9RvyTNUUbA"
      },
      "execution_count": 53,
      "outputs": []
    },
    {
      "cell_type": "code",
      "source": [
        "omeg"
      ],
      "metadata": {
        "id": "PTtSDYB9Bf5a",
        "outputId": "902f7d53-7b8c-49cc-d309-6b35bd6c178a",
        "colab": {
          "base_uri": "https://localhost:8080/"
        }
      },
      "execution_count": 55,
      "outputs": [
        {
          "output_type": "execute_result",
          "data": {
            "text/plain": [
              "array([[ 0.00000000e+00,  0.00000000e+00,  0.00000000e+00,\n",
              "         0.00000000e+00,  0.00000000e+00,  0.00000000e+00,\n",
              "         0.00000000e+00,  0.00000000e+00,  0.00000000e+00,\n",
              "         0.00000000e+00,  0.00000000e+00,  0.00000000e+00,\n",
              "         0.00000000e+00,  0.00000000e+00,  0.00000000e+00,\n",
              "         0.00000000e+00,  0.00000000e+00,  0.00000000e+00,\n",
              "         0.00000000e+00,  0.00000000e+00],\n",
              "       [ 0.00000000e+00,  4.17662973e+01,  1.35719632e-16,\n",
              "        -2.61578888e-06, -4.28173524e-06,  1.60120967e-10,\n",
              "        -7.02810715e-09, -7.04854489e-02,  3.94968755e-06,\n",
              "         4.46912717e-06,  2.81649801e-06, -2.30699960e-07,\n",
              "        -2.31715761e-06, -3.27908919e-11,  4.21920442e-12,\n",
              "        -1.80248832e-12,  5.20347260e-10, -2.28144686e-08,\n",
              "        -3.16989508e-09, -4.15355753e+01],\n",
              "       [ 0.00000000e+00,  1.35719632e-16,  1.00000000e+00,\n",
              "         7.20189539e-10,  9.41617519e-11,  7.78233191e-10,\n",
              "         8.55798800e-09, -1.97199930e-13, -4.39717239e-10,\n",
              "        -8.48380114e-10, -1.11910502e-11,  4.94069470e-09,\n",
              "         4.15636695e-10, -4.68323012e-10, -2.54438066e-10,\n",
              "        -4.12225587e-11, -1.47831611e-10,  1.40242164e-10,\n",
              "        -2.61961419e-09, -3.24708531e-16],\n",
              "       [ 0.00000000e+00, -2.61578888e-06,  7.20189539e-10,\n",
              "         4.53417265e+00, -2.27122913e-01, -6.71380107e-04,\n",
              "         1.19782858e-01,  4.48184413e-03,  2.95862522e-01,\n",
              "        -1.74272488e+00,  1.30905822e-02,  1.62742514e-01,\n",
              "        -4.39658419e-01, -1.66485451e-03, -5.33781293e-05,\n",
              "         5.26963516e-06, -3.60044922e-03, -2.56991367e-01,\n",
              "         1.36458484e-02,  7.43653866e-06],\n",
              "       [ 0.00000000e+00, -4.28173524e-06,  9.41617519e-11,\n",
              "        -2.27122913e-01,  5.70171755e+00,  1.37453435e-05,\n",
              "         8.47339747e-03, -2.33660995e-05, -7.49733388e+00,\n",
              "         1.14537972e+00, -9.48012039e-01, -4.03017323e-02,\n",
              "         7.97823570e+00,  6.72640380e-03,  1.78345286e-06,\n",
              "        -1.95405421e-06, -6.67708307e-04,  6.85402738e-01,\n",
              "        -5.10766116e-04,  3.45228218e-06],\n",
              "       [ 0.00000000e+00,  1.60120967e-10,  7.78233191e-10,\n",
              "        -6.71380107e-04,  1.37453435e-05,  8.72490866e+00,\n",
              "         8.98542281e-03,  4.05449914e-08,  5.97767992e-05,\n",
              "         1.56808456e-03, -1.09951453e-05, -3.70148870e-03,\n",
              "         1.86896409e-05, -4.03140760e-04,  2.53803025e+00,\n",
              "         9.84891456e-01, -7.68934386e-05,  4.50420240e-05,\n",
              "        -1.06039178e-02, -2.04410586e-10],\n",
              "       [ 0.00000000e+00, -7.02810715e-09,  8.55798800e-09,\n",
              "         1.19782858e-01,  8.47339747e-03,  8.98542281e-03,\n",
              "         5.58266403e+00, -3.36365682e-05, -4.88635749e-02,\n",
              "        -2.97209292e-01, -3.43456873e-04,  7.89163452e-01,\n",
              "         4.35832573e-02,  5.22574256e-01,  6.60568360e-03,\n",
              "         1.28032331e-03,  2.96096492e-01,  1.73875390e-03,\n",
              "         1.15497380e+00, -1.24097133e-08],\n",
              "       [ 0.00000000e+00, -7.04854489e-02, -1.97199930e-13,\n",
              "         4.48184413e-03, -2.33660995e-05,  4.05449914e-08,\n",
              "        -3.36365682e-05,  8.07082795e+00, -1.52603229e-03,\n",
              "        -2.13098698e-03,  7.12919196e-04,  4.29996187e-04,\n",
              "         7.14205911e-04, -5.96847869e-07,  5.17818697e-09,\n",
              "         2.97124423e-10,  6.15943593e-07,  6.47138493e-06,\n",
              "         2.97303769e-06,  8.21180501e-02],\n",
              "       [ 0.00000000e+00,  3.94968755e-06, -4.39717239e-10,\n",
              "         2.95862522e-01, -7.49733388e+00,  5.97767992e-05,\n",
              "        -4.88635749e-02, -1.52603229e-03,  2.85837580e+01,\n",
              "        -3.43240894e+00,  2.72694718e+00,  9.69774086e-02,\n",
              "        -2.65928737e+01, -1.91427817e-02,  1.86771942e-06,\n",
              "         7.38438016e-06,  2.71836677e-03, -2.05001400e+00,\n",
              "        -9.62529809e-04, -6.03354688e-06],\n",
              "       [ 0.00000000e+00,  4.46912717e-06, -8.48380114e-10,\n",
              "        -1.74272488e+00,  1.14537972e+00,  1.56808456e-03,\n",
              "        -2.97209292e-01, -2.13098698e-03, -3.43240894e+00,\n",
              "         2.23670158e+01, -2.49841730e-01,  3.76148563e-01,\n",
              "         3.87774254e+00, -3.79640939e-03,  8.81856252e-05,\n",
              "        -1.16235818e-05,  7.95961896e-03,  1.00051415e+00,\n",
              "        -2.06702651e-02, -8.03230174e-06],\n",
              "       [ 0.00000000e+00,  2.81649801e-06, -1.11910502e-11,\n",
              "         1.30905822e-02, -9.48012039e-01, -1.09951453e-05,\n",
              "        -3.43456873e-04,  7.12919196e-04,  2.72694718e+00,\n",
              "        -2.49841730e-01,  2.80635426e+00,  1.21277495e-02,\n",
              "        -2.37440301e+00, -1.73885062e-03,  4.47163833e-06,\n",
              "         3.34882588e-06,  1.09626698e-04, -1.63526833e-01,\n",
              "         3.27768334e-04, -8.30697803e-07],\n",
              "       [ 0.00000000e+00, -2.30699960e-07,  4.94069470e-09,\n",
              "         1.62742514e-01, -4.03017323e-02, -3.70148870e-03,\n",
              "         7.89163452e-01,  4.29996187e-04,  9.69774086e-02,\n",
              "         3.76148563e-01,  1.21277495e-02,  2.87160236e+00,\n",
              "        -1.58209827e-01,  9.06260182e-02, -2.12202535e-04,\n",
              "         2.95138352e-05, -2.38571901e-02,  3.92217854e-02,\n",
              "         6.24361119e-02,  6.16989180e-07],\n",
              "       [ 0.00000000e+00, -2.31715761e-06,  4.15636695e-10,\n",
              "        -4.39658419e-01,  7.97823570e+00,  1.86896409e-05,\n",
              "         4.35832573e-02,  7.14205911e-04, -2.65928737e+01,\n",
              "         3.87774254e+00, -2.37440301e+00, -1.58209827e-01,\n",
              "         3.05984968e+01,  1.85737594e-02,  5.15927186e-05,\n",
              "         4.65849200e-06, -2.46875420e-03,  2.06101231e+00,\n",
              "        -4.87927814e-04,  3.56832897e-06],\n",
              "       [ 0.00000000e+00, -3.27908919e-11, -4.68323012e-10,\n",
              "        -1.66485451e-03,  6.72640380e-03, -4.03140760e-04,\n",
              "         5.22574256e-01, -5.96847869e-07, -1.91427817e-02,\n",
              "        -3.79640939e-03, -1.73885062e-03,  9.06260182e-02,\n",
              "         1.85737594e-02,  1.84802047e+00,  4.75217324e-05,\n",
              "         1.88526122e-04,  5.03967589e-01,  1.24529507e-02,\n",
              "        -1.50886330e-01, -3.01043848e-10],\n",
              "       [ 0.00000000e+00,  4.21920442e-12, -2.54438066e-10,\n",
              "        -5.33781293e-05,  1.78345286e-06,  2.53803025e+00,\n",
              "         6.60568360e-03,  5.17818697e-09,  1.86771942e-06,\n",
              "         8.81856252e-05,  4.47163833e-06, -2.12202535e-04,\n",
              "         5.15927186e-05,  4.75217324e-05,  8.29803760e+00,\n",
              "         1.51041675e+00,  6.25516629e-05, -3.80031047e-07,\n",
              "        -4.85740257e-02, -2.41787208e-12],\n",
              "       [ 0.00000000e+00, -1.80248832e-12, -4.12225587e-11,\n",
              "         5.26963516e-06, -1.95405421e-06,  9.84891456e-01,\n",
              "         1.28032331e-03,  2.97124423e-10,  7.38438016e-06,\n",
              "        -1.16235818e-05,  3.34882588e-06,  2.95138352e-05,\n",
              "         4.65849200e-06,  1.88526122e-04,  1.51041675e+00,\n",
              "         5.97132709e+00, -3.02939328e-05,  5.82802102e-06,\n",
              "        -1.85241266e-02,  2.64180983e-12],\n",
              "       [ 0.00000000e+00,  5.20347260e-10, -1.47831611e-10,\n",
              "        -3.60044922e-03, -6.67708307e-04, -7.68934386e-05,\n",
              "         2.96096492e-01,  6.15943593e-07,  2.71836677e-03,\n",
              "         7.95961896e-03,  1.09626698e-04, -2.38571901e-02,\n",
              "        -2.46875420e-03,  5.03967589e-01,  6.25516629e-05,\n",
              "        -3.02939328e-05,  3.37908860e+00, -1.01822186e-03,\n",
              "        -5.46895569e-02, -3.37925224e-10],\n",
              "       [ 0.00000000e+00, -2.28144686e-08,  1.40242164e-10,\n",
              "        -2.56991367e-01,  6.85402738e-01,  4.50420240e-05,\n",
              "         1.73875390e-03,  6.47138493e-06, -2.05001400e+00,\n",
              "         1.00051415e+00, -1.63526833e-01,  3.92217854e-02,\n",
              "         2.06101231e+00,  1.24529507e-02, -3.80031047e-07,\n",
              "         5.82802102e-06, -1.01822186e-03,  2.19734137e+00,\n",
              "        -4.78702435e-04,  3.55512072e-08],\n",
              "       [ 0.00000000e+00, -3.16989508e-09, -2.61961419e-09,\n",
              "         1.36458484e-02, -5.10766116e-04, -1.06039178e-02,\n",
              "         1.15497380e+00,  2.97303769e-06, -9.62529809e-04,\n",
              "        -2.06702651e-02,  3.27768334e-04,  6.24361119e-02,\n",
              "        -4.87927814e-04, -1.50886330e-01, -4.85740257e-02,\n",
              "        -1.85241266e-02, -5.46895569e-02, -4.78702435e-04,\n",
              "         4.85637394e+00,  6.48597550e-09],\n",
              "       [ 0.00000000e+00, -4.15355753e+01, -3.24708531e-16,\n",
              "         7.43653866e-06,  3.45228218e-06, -2.04410586e-10,\n",
              "        -1.24097133e-08,  8.21180501e-02, -6.03354688e-06,\n",
              "        -8.03230174e-06, -8.30697803e-07,  6.16989180e-07,\n",
              "         3.56832897e-06, -3.01043848e-10, -2.41787208e-12,\n",
              "         2.64180983e-12, -3.37925224e-10,  3.55512072e-08,\n",
              "         6.48597550e-09,  4.66150078e+01]])"
            ]
          },
          "metadata": {},
          "execution_count": 55
        }
      ]
    },
    {
      "cell_type": "code",
      "source": [
        "output = np.linalg.solve(A, Z)\n",
        "y_hat = output[:SN]\n",
        "b = output[-1]"
      ],
      "metadata": {
        "id": "XDhQDXh3Xv-e",
        "outputId": "da15b620-b5dd-45d8-a401-6de4371f697c",
        "colab": {
          "base_uri": "https://localhost:8080/",
          "height": 381
        }
      },
      "execution_count": 56,
      "outputs": [
        {
          "output_type": "error",
          "ename": "LinAlgError",
          "evalue": "ignored",
          "traceback": [
            "\u001b[0;31m---------------------------------------------------------------------------\u001b[0m",
            "\u001b[0;31mLinAlgError\u001b[0m                               Traceback (most recent call last)",
            "\u001b[0;32m<ipython-input-56-9cfc30620d1c>\u001b[0m in \u001b[0;36m<module>\u001b[0;34m()\u001b[0m\n\u001b[0;32m----> 1\u001b[0;31m \u001b[0moutput\u001b[0m \u001b[0;34m=\u001b[0m \u001b[0mnp\u001b[0m\u001b[0;34m.\u001b[0m\u001b[0mlinalg\u001b[0m\u001b[0;34m.\u001b[0m\u001b[0msolve\u001b[0m\u001b[0;34m(\u001b[0m\u001b[0mA\u001b[0m\u001b[0;34m,\u001b[0m \u001b[0mZ\u001b[0m\u001b[0;34m)\u001b[0m\u001b[0;34m\u001b[0m\u001b[0;34m\u001b[0m\u001b[0m\n\u001b[0m\u001b[1;32m      2\u001b[0m \u001b[0my_hat\u001b[0m \u001b[0;34m=\u001b[0m \u001b[0moutput\u001b[0m\u001b[0;34m[\u001b[0m\u001b[0;34m:\u001b[0m\u001b[0mSN\u001b[0m\u001b[0;34m]\u001b[0m\u001b[0;34m\u001b[0m\u001b[0;34m\u001b[0m\u001b[0m\n\u001b[1;32m      3\u001b[0m \u001b[0mb\u001b[0m \u001b[0;34m=\u001b[0m \u001b[0moutput\u001b[0m\u001b[0;34m[\u001b[0m\u001b[0;34m-\u001b[0m\u001b[0;36m1\u001b[0m\u001b[0;34m]\u001b[0m\u001b[0;34m\u001b[0m\u001b[0;34m\u001b[0m\u001b[0m\n",
            "\u001b[0;32m<__array_function__ internals>\u001b[0m in \u001b[0;36msolve\u001b[0;34m(*args, **kwargs)\u001b[0m\n",
            "\u001b[0;32m/usr/local/lib/python3.7/dist-packages/numpy/linalg/linalg.py\u001b[0m in \u001b[0;36msolve\u001b[0;34m(a, b)\u001b[0m\n\u001b[1;32m    391\u001b[0m     \u001b[0msignature\u001b[0m \u001b[0;34m=\u001b[0m \u001b[0;34m'DD->D'\u001b[0m \u001b[0;32mif\u001b[0m \u001b[0misComplexType\u001b[0m\u001b[0;34m(\u001b[0m\u001b[0mt\u001b[0m\u001b[0;34m)\u001b[0m \u001b[0;32melse\u001b[0m \u001b[0;34m'dd->d'\u001b[0m\u001b[0;34m\u001b[0m\u001b[0;34m\u001b[0m\u001b[0m\n\u001b[1;32m    392\u001b[0m     \u001b[0mextobj\u001b[0m \u001b[0;34m=\u001b[0m \u001b[0mget_linalg_error_extobj\u001b[0m\u001b[0;34m(\u001b[0m\u001b[0m_raise_linalgerror_singular\u001b[0m\u001b[0;34m)\u001b[0m\u001b[0;34m\u001b[0m\u001b[0;34m\u001b[0m\u001b[0m\n\u001b[0;32m--> 393\u001b[0;31m     \u001b[0mr\u001b[0m \u001b[0;34m=\u001b[0m \u001b[0mgufunc\u001b[0m\u001b[0;34m(\u001b[0m\u001b[0ma\u001b[0m\u001b[0;34m,\u001b[0m \u001b[0mb\u001b[0m\u001b[0;34m,\u001b[0m \u001b[0msignature\u001b[0m\u001b[0;34m=\u001b[0m\u001b[0msignature\u001b[0m\u001b[0;34m,\u001b[0m \u001b[0mextobj\u001b[0m\u001b[0;34m=\u001b[0m\u001b[0mextobj\u001b[0m\u001b[0;34m)\u001b[0m\u001b[0;34m\u001b[0m\u001b[0;34m\u001b[0m\u001b[0m\n\u001b[0m\u001b[1;32m    394\u001b[0m \u001b[0;34m\u001b[0m\u001b[0m\n\u001b[1;32m    395\u001b[0m     \u001b[0;32mreturn\u001b[0m \u001b[0mwrap\u001b[0m\u001b[0;34m(\u001b[0m\u001b[0mr\u001b[0m\u001b[0;34m.\u001b[0m\u001b[0mastype\u001b[0m\u001b[0;34m(\u001b[0m\u001b[0mresult_t\u001b[0m\u001b[0;34m,\u001b[0m \u001b[0mcopy\u001b[0m\u001b[0;34m=\u001b[0m\u001b[0;32mFalse\u001b[0m\u001b[0;34m)\u001b[0m\u001b[0;34m)\u001b[0m\u001b[0;34m\u001b[0m\u001b[0;34m\u001b[0m\u001b[0m\n",
            "\u001b[0;32m/usr/local/lib/python3.7/dist-packages/numpy/linalg/linalg.py\u001b[0m in \u001b[0;36m_raise_linalgerror_singular\u001b[0;34m(err, flag)\u001b[0m\n\u001b[1;32m     86\u001b[0m \u001b[0;34m\u001b[0m\u001b[0m\n\u001b[1;32m     87\u001b[0m \u001b[0;32mdef\u001b[0m \u001b[0m_raise_linalgerror_singular\u001b[0m\u001b[0;34m(\u001b[0m\u001b[0merr\u001b[0m\u001b[0;34m,\u001b[0m \u001b[0mflag\u001b[0m\u001b[0;34m)\u001b[0m\u001b[0;34m:\u001b[0m\u001b[0;34m\u001b[0m\u001b[0;34m\u001b[0m\u001b[0m\n\u001b[0;32m---> 88\u001b[0;31m     \u001b[0;32mraise\u001b[0m \u001b[0mLinAlgError\u001b[0m\u001b[0;34m(\u001b[0m\u001b[0;34m\"Singular matrix\"\u001b[0m\u001b[0;34m)\u001b[0m\u001b[0;34m\u001b[0m\u001b[0;34m\u001b[0m\u001b[0m\n\u001b[0m\u001b[1;32m     89\u001b[0m \u001b[0;34m\u001b[0m\u001b[0m\n\u001b[1;32m     90\u001b[0m \u001b[0;32mdef\u001b[0m \u001b[0m_raise_linalgerror_nonposdef\u001b[0m\u001b[0;34m(\u001b[0m\u001b[0merr\u001b[0m\u001b[0;34m,\u001b[0m \u001b[0mflag\u001b[0m\u001b[0;34m)\u001b[0m\u001b[0;34m:\u001b[0m\u001b[0;34m\u001b[0m\u001b[0;34m\u001b[0m\u001b[0m\n",
            "\u001b[0;31mLinAlgError\u001b[0m: Singular matrix"
          ]
        }
      ]
    },
    {
      "cell_type": "code",
      "source": [
        "print(\"y_hat: \", y_hat)\n",
        "print(\"b: \", b)"
      ],
      "metadata": {
        "id": "NLsfi2BuYJL8",
        "outputId": "ad6b7667-865e-47b3-a656-818bd6043edf",
        "colab": {
          "base_uri": "https://localhost:8080/"
        }
      },
      "execution_count": null,
      "outputs": [
        {
          "output_type": "stream",
          "name": "stdout",
          "text": [
            "y_hat:  [[-2.72769711e+169]\n",
            " [-2.37280179e+002]\n",
            " [ 3.66931676e+000]\n",
            " [-4.89242237e+002]\n",
            " [-1.19533788e+004]\n",
            " [ 1.66110788e+000]\n",
            " [-1.66157334e+001]\n",
            " [ 1.00247599e+001]\n",
            " [ 1.71747592e+004]\n",
            " [ 3.62365702e+002]\n",
            " [ 5.19756567e+003]\n",
            " [-2.19417406e+001]\n",
            " [-1.09252391e+004]\n",
            " [-3.25512768e+000]\n",
            " [ 6.30263306e+000]\n",
            " [-6.68379314e+000]\n",
            " [ 4.53153976e+000]\n",
            " [ 3.70688889e+002]\n",
            " [ 1.97256004e+001]\n",
            " [ 2.36825540e+002]]\n",
            "b:  [0.99415994]\n"
          ]
        }
      ]
    },
    {
      "cell_type": "markdown",
      "source": [
        "## g(xi)"
      ],
      "metadata": {
        "id": "otogX19-37To"
      }
    },
    {
      "cell_type": "code",
      "source": [
        "B_df[\"g(xi)\"] = np.nan\n",
        "for i in range(B_df.shape[0]):\n",
        "  B_df.loc[i, \"g(xi)\"] = np.dot(B_df.iloc[i, 0:-3], (y_hat-b)) + b"
      ],
      "metadata": {
        "id": "zeW6EOazY1gL"
      },
      "execution_count": null,
      "outputs": []
    },
    {
      "cell_type": "code",
      "source": [
        "B_df.drop(index = 208, inplace=True)\n",
        "\n",
        "groups = B_df.groupby('Class')\n",
        "\n",
        "# Plot\n",
        "fig, ax = plt.subplots()\n",
        "ax.margins(0.05) # Optional, just adds 5% padding to the autoscaling\n",
        "for name, group in groups:\n",
        "    ax.plot(np.arange(0, group.shape[0]), group[\"g(xi)\"], marker='o', linestyle='', ms=8, label=name)\n",
        "    print(name, \" g(xi) mean value: \", np.mean(group[\"g(xi)\"]))\n",
        "ax.legend()\n",
        "plt.ylabel(\"g(xi)\")\n",
        "\n",
        "plt.show()"
      ],
      "metadata": {
        "colab": {
          "base_uri": "https://localhost:8080/",
          "height": 300
        },
        "id": "ZCcfayyE6wcP",
        "outputId": "cb719570-8a95-4ac5-9dd0-9dba7243304c"
      },
      "execution_count": null,
      "outputs": [
        {
          "output_type": "stream",
          "name": "stdout",
          "text": [
            "negative  g(xi) mean value:  -0.9834676093321832\n",
            "positive  g(xi) mean value:  0.9941599393723837\n"
          ]
        },
        {
          "output_type": "display_data",
          "data": {
            "text/plain": [
              "<Figure size 432x288 with 1 Axes>"
            ],
            "image/png": "[encoded data removed]"
          },
          "metadata": {
            "needs_background": "light"
          }
        }
      ]
    },
    {
      "cell_type": "code",
      "source": [
        "# change threshold to change the model's performance:\n",
        "classifier_thresh = 0\n",
        "\n",
        "B_df[\"y_pred\"] = major_cls\n",
        "for i, g_xi in enumerate(B_df[\"g(xi)\"]):\n",
        "  if g_xi > classifier_thresh:\n",
        "    B_df.loc[i, \"y_pred\"] = minor_cls"
      ],
      "metadata": {
        "id": "b0sKJfT463Xn"
      },
      "execution_count": null,
      "outputs": []
    },
    {
      "cell_type": "markdown",
      "source": [
        "## Model Evaluation"
      ],
      "metadata": {
        "id": "-_5bOv7IANQq"
      }
    },
    {
      "cell_type": "markdown",
      "source": [
        "* Confusion Matrix"
      ],
      "metadata": {
        "id": "pGfAs9fHAP9D"
      }
    },
    {
      "cell_type": "code",
      "source": [
        "cls_types= np.array([major_cls, minor_cls])"
      ],
      "metadata": {
        "id": "-gfOjgLuDcxK"
      },
      "execution_count": null,
      "outputs": []
    },
    {
      "cell_type": "code",
      "source": [
        "Y_pred = B_df[\"y_pred\"].values\n",
        "Y_true = B_df[\"Class\"].values"
      ],
      "metadata": {
        "id": "q0mZ-IOFB8fE"
      },
      "execution_count": null,
      "outputs": []
    },
    {
      "cell_type": "code",
      "source": [
        "cm = confusion_matrix(Y_true, Y_pred)\n",
        "plt.figure(figsize=(8, 8))\n",
        "ax = sns.heatmap(cm, cmap=plt.cm.Greens, annot=True, square=True, xticklabels=cls_types, yticklabels=cls_types)\n",
        "ax.set_ylabel('Actual')\n",
        "ax.set_xlabel('Predicted')"
      ],
      "metadata": {
        "colab": {
          "base_uri": "https://localhost:8080/",
          "height": 489
        },
        "id": "M4FvNLIeB4Lk",
        "outputId": "a784006c-9634-4ac8-d3e4-d238a079d42c"
      },
      "execution_count": null,
      "outputs": [
        {
          "output_type": "execute_result",
          "data": {
            "text/plain": [
              "Text(0.5, 89.87999999999997, 'Predicted')"
            ]
          },
          "metadata": {},
          "execution_count": 168
        },
        {
          "output_type": "display_data",
          "data": {
            "text/plain": [
              "<Figure size 576x576 with 2 Axes>"
            ],
            "image/png": "[encoded data removed]"
          },
          "metadata": {
            "needs_background": "light"
          }
        }
      ]
    },
    {
      "cell_type": "code",
      "source": [
        "TN = cm[0][0]\n",
        "TP = cm[1][1]\n",
        "FN = cm[0][1]\n",
        "FP = cm[1][0]\n",
        "\n",
        "TPR = TP / (TP+FN)\n",
        "TNR = TN / (TN+FP)\n",
        "precision = TP / (TP+FP)"
      ],
      "metadata": {
        "id": "76vbyURFEMOL"
      },
      "execution_count": null,
      "outputs": []
    },
    {
      "cell_type": "code",
      "source": [
        "G_mean = np.sqrt(TPR*TNR)\n",
        "F_measure = (2*precision*TPR)/(precision+TPR)"
      ],
      "metadata": {
        "id": "mkU5DthAGWuF"
      },
      "execution_count": null,
      "outputs": []
    },
    {
      "cell_type": "code",
      "source": [
        "print(\"G-mean for threshold of \", classifier_thresh, \" is: \", G_mean)\n",
        "print(\"F-measure for threshold of \", classifier_thresh, \" is: \", F_measure)"
      ],
      "metadata": {
        "colab": {
          "base_uri": "https://localhost:8080/"
        },
        "id": "Ni_AQWbvGbUg",
        "outputId": "d9a1a4f1-94f2-4066-dd61-fe65545723cc"
      },
      "execution_count": null,
      "outputs": [
        {
          "output_type": "stream",
          "name": "stdout",
          "text": [
            "G-mean for threshold of  0  is:  0.21320071635561044\n",
            "F-measure for threshold of  0  is:  0.08695652173913045\n"
          ]
        }
      ]
    },
    {
      "cell_type": "code",
      "source": [
        "acc = (TP+TN) / (TP+TN+FN+FP)\n",
        "print(acc)"
      ],
      "metadata": {
        "id": "zLrFzNIgGcIn",
        "outputId": "b215e002-79cc-4e1d-b627-491d3b93b830",
        "colab": {
          "base_uri": "https://localhost:8080/"
        }
      },
      "execution_count": null,
      "outputs": [
        {
          "output_type": "stream",
          "name": "stdout",
          "text": [
            "0.2631578947368421\n"
          ]
        }
      ]
    },
    {
      "cell_type": "code",
      "source": [
        "print(precision)"
      ],
      "metadata": {
        "id": "a9j7eWQjvKaP",
        "outputId": "ec054116-3a6e-4185-a8bf-cdc5d3240ca0",
        "colab": {
          "base_uri": "https://localhost:8080/"
        }
      },
      "execution_count": null,
      "outputs": [
        {
          "output_type": "stream",
          "name": "stdout",
          "text": [
            "1.0\n"
          ]
        }
      ]
    },
    {
      "cell_type": "code",
      "source": [
        ""
      ],
      "metadata": {
        "id": "rnlvj01LxQ3X"
      },
      "execution_count": null,
      "outputs": []
    }
  ]
}