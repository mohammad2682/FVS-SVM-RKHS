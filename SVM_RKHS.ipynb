{
  "nbformat": 4,
  "nbformat_minor": 0,
  "metadata": {
    "colab": {
      "name": "SVM-RKHS.ipynb",
      "provenance": [],
      "include_colab_link": true
    },
    "kernelspec": {
      "name": "python3",
      "display_name": "Python 3"
    },
    "language_info": {
      "name": "python"
    }
  },
  "cells": [
    {
      "cell_type": "markdown",
      "metadata": {
        "id": "view-in-github",
        "colab_type": "text"
      },
      "source": [
        "<a href=\"https://colab.research.google.com/github/mohammad2682/FVS-SVM-RKHS/blob/main/SVM_RKHS.ipynb\" target=\"_parent\"><img src=\"https://colab.research.google.com/assets/colab-badge.svg\" alt=\"Open In Colab\"/></a>"
      ]
    },
    {
      "cell_type": "code",
      "execution_count": 1,
      "metadata": {
        "id": "aTY1BRRDvfAs"
      },
      "outputs": [],
      "source": [
        "import pandas as pd\n",
        "import numpy as np\n",
        "import matplotlib.pyplot as plt\n",
        "import os\n",
        "from sklearn.metrics import confusion_matrix\n",
        "import seaborn as sns"
      ]
    },
    {
      "cell_type": "code",
      "source": [
        "!git clone https://github.com/mohammad2682/FVS-SVM-RKHS"
      ],
      "metadata": {
        "id": "FckMrNAZvshl",
        "colab": {
          "base_uri": "https://localhost:8080/"
        },
        "outputId": "7a5511e1-c1e7-413a-9f3a-f13f6a4f8f8f"
      },
      "execution_count": 2,
      "outputs": [
        {
          "output_type": "stream",
          "name": "stdout",
          "text": [
            "Cloning into 'FVS-SVM-RKHS'...\n",
            "remote: Enumerating objects: 107, done.\u001b[K\n",
            "remote: Counting objects: 100% (107/107), done.\u001b[K\n",
            "remote: Compressing objects: 100% (90/90), done.\u001b[K\n",
            "remote: Total 107 (delta 38), reused 41 (delta 17), pack-reused 0\u001b[K\n",
            "Receiving objects: 100% (107/107), 875.57 KiB | 4.68 MiB/s, done.\n",
            "Resolving deltas: 100% (38/38), done.\n"
          ]
        }
      ]
    },
    {
      "cell_type": "code",
      "source": [
        "def sigma(df):\n",
        "  N = df.shape[0]\n",
        "  sigma = []\n",
        "  for i in range(N):\n",
        "    for j in range(i+1, N):\n",
        "      x_i = df.iloc[[i], :-1]\n",
        "      x_j = df.iloc[[j], :-1]\n",
        "      sigma.append(np.linalg.norm(x_i.values - x_j.values))\n",
        "  return 0.1 * np.max(sigma)"
      ],
      "metadata": {
        "id": "frI-fAhCf3qO"
      },
      "execution_count": 3,
      "outputs": []
    },
    {
      "cell_type": "code",
      "source": [
        "def K(FV1, FV2, sigma):\n",
        "  dist = np.linalg.norm(FV1-FV2)\n",
        "  return np.exp(-1*np.square(dist)/(2*sigma))"
      ],
      "metadata": {
        "id": "c3-rXA9xaqe0"
      },
      "execution_count": 4,
      "outputs": []
    },
    {
      "cell_type": "code",
      "source": [
        "def give_KSS(S, sigma):\n",
        "  KSS = []\n",
        "  for vec1 in S:\n",
        "    for vec2 in S:\n",
        "      k = K(np.array(vec1), np.array(vec2), sigma = sigma)\n",
        "      KSS.append(k)\n",
        "\n",
        "  return np.array(KSS).reshape((len(S), len(S)))"
      ],
      "metadata": {
        "id": "A8b9TgKaZwMq"
      },
      "execution_count": 5,
      "outputs": []
    },
    {
      "cell_type": "code",
      "source": [
        "def give_KSx(S, x, sigma):\n",
        "  KSx = []\n",
        "  for s in S:\n",
        "    kx = K(np.array(s), x, sigma = sigma)\n",
        "    KSx.append(kx)\n",
        "  return np.array(KSx).reshape((len(S), 1))"
      ],
      "metadata": {
        "id": "MQuA7GCggQMB"
      },
      "execution_count": 6,
      "outputs": []
    },
    {
      "cell_type": "code",
      "source": [
        "def minor_major(df):\n",
        "  cls = df.iloc[:,-1].unique()\n",
        "  cls0 = df[df.iloc[:,-1]==cls[0]].shape[0]\n",
        "  cls1 = df[df.iloc[:,-1]==cls[1]].shape[0]\n",
        "  minor = cls[0]\n",
        "  major = cls[1]\n",
        "  if cls0>cls1:\n",
        "    minor = cls[1]\n",
        "    major = cls[0]\n",
        "  return minor, major"
      ],
      "metadata": {
        "id": "X-cwXA2pLuHK"
      },
      "execution_count": 7,
      "outputs": []
    },
    {
      "cell_type": "code",
      "source": [
        "def S_creator(df, FV1):\n",
        "  df_new = df.drop(index = FV1.index)\n",
        "  FV1 = FV1.iloc[0].values\n",
        "  tau = min(0.001, 1/df.shape[0]) #minimum of 0.001, 1/N\n",
        "  S = [list(FV1)]\n",
        "  cnt = 1\n",
        "  for vec in df_new.iloc[:, :-1].values:\n",
        "    KSx = give_KSx(S, vec, sigma = sig)\n",
        "    KSS = give_KSS(S, sigma = sig)\n",
        "    LF = abs(1-(np.dot(np.dot(np.transpose(KSx), np.linalg.inv(KSS)), KSx)))\n",
        "    #print(LF)\n",
        "    if LF > tau:\n",
        "      S.append(list(vec))\n",
        "      cnt += 1\n",
        "      if cnt == 5:\n",
        "        break\n",
        "  return S"
      ],
      "metadata": {
        "id": "2rAFLpiN51-c"
      },
      "execution_count": 8,
      "outputs": []
    },
    {
      "cell_type": "code",
      "source": [
        "def give_landa(df, minor_cls, major_cls):\n",
        "  minor = df[df[\"Class\"] == minor_cls]\n",
        "  major = df[df[\"Class\"] == major_cls]\n",
        "  landa = []\n",
        "  for col in df.columns[:-1]:\n",
        "    mean_minor = minor[col].mean()\n",
        "    mean_major = major[col].mean()\n",
        "    var_minor = minor[col].var()\n",
        "    var_major = major[col].var()\n",
        "    landa_i = np.square(mean_minor - mean_major)/(var_minor - var_major)\n",
        "    landa.append(landa_i)\n",
        "  return landa"
      ],
      "metadata": {
        "id": "Ey7FFlegNVky"
      },
      "execution_count": 9,
      "outputs": []
    },
    {
      "cell_type": "code",
      "source": [
        "df = pd.read_csv(\"FVS-SVM-RKHS/datasets/pima.csv\")\n",
        "df.head()"
      ],
      "metadata": {
        "colab": {
          "base_uri": "https://localhost:8080/",
          "height": 206
        },
        "id": "fHkTbNeeaY33",
        "outputId": "158d9f06-ffc1-4d90-92c6-f28414532a78"
      },
      "execution_count": 10,
      "outputs": [
        {
          "output_type": "execute_result",
          "data": {
            "text/plain": [
              "   preg  plas  pres  skin  insu  mass   pedi  age            class\n",
              "0    14   175    62    30     0  33.6  0.212   38  tested_positive\n",
              "1     4   146    78     0     0  38.5  0.520   67  tested_positive\n",
              "2    15   136    70    32   110  37.1  0.153   43  tested_positive\n",
              "3     3   107    62    13    48  22.9  0.678   23  tested_positive\n",
              "4     3   169    74    19   125  29.9  0.268   31  tested_positive"
            ],
            "text/html": [
              "\n",
              "  <div id=\"df-5aeef7de-2f6f-49e2-abc0-0539727d1352\">\n",
              "    <div class=\"colab-df-container\">\n",
              "      <div>\n",
              "<style scoped>\n",
              "    .dataframe tbody tr th:only-of-type {\n",
              "        vertical-align: middle;\n",
              "    }\n",
              "\n",
              "    .dataframe tbody tr th {\n",
              "        vertical-align: top;\n",
              "    }\n",
              "\n",
              "    .dataframe thead th {\n",
              "        text-align: right;\n",
              "    }\n",
              "</style>\n",
              "<table border=\"1\" class=\"dataframe\">\n",
              "  <thead>\n",
              "    <tr style=\"text-align: right;\">\n",
              "      <th></th>\n",
              "      <th>preg</th>\n",
              "      <th>plas</th>\n",
              "      <th>pres</th>\n",
              "      <th>skin</th>\n",
              "      <th>insu</th>\n",
              "      <th>mass</th>\n",
              "      <th>pedi</th>\n",
              "      <th>age</th>\n",
              "      <th>class</th>\n",
              "    </tr>\n",
              "  </thead>\n",
              "  <tbody>\n",
              "    <tr>\n",
              "      <th>0</th>\n",
              "      <td>14</td>\n",
              "      <td>175</td>\n",
              "      <td>62</td>\n",
              "      <td>30</td>\n",
              "      <td>0</td>\n",
              "      <td>33.6</td>\n",
              "      <td>0.212</td>\n",
              "      <td>38</td>\n",
              "      <td>tested_positive</td>\n",
              "    </tr>\n",
              "    <tr>\n",
              "      <th>1</th>\n",
              "      <td>4</td>\n",
              "      <td>146</td>\n",
              "      <td>78</td>\n",
              "      <td>0</td>\n",
              "      <td>0</td>\n",
              "      <td>38.5</td>\n",
              "      <td>0.520</td>\n",
              "      <td>67</td>\n",
              "      <td>tested_positive</td>\n",
              "    </tr>\n",
              "    <tr>\n",
              "      <th>2</th>\n",
              "      <td>15</td>\n",
              "      <td>136</td>\n",
              "      <td>70</td>\n",
              "      <td>32</td>\n",
              "      <td>110</td>\n",
              "      <td>37.1</td>\n",
              "      <td>0.153</td>\n",
              "      <td>43</td>\n",
              "      <td>tested_positive</td>\n",
              "    </tr>\n",
              "    <tr>\n",
              "      <th>3</th>\n",
              "      <td>3</td>\n",
              "      <td>107</td>\n",
              "      <td>62</td>\n",
              "      <td>13</td>\n",
              "      <td>48</td>\n",
              "      <td>22.9</td>\n",
              "      <td>0.678</td>\n",
              "      <td>23</td>\n",
              "      <td>tested_positive</td>\n",
              "    </tr>\n",
              "    <tr>\n",
              "      <th>4</th>\n",
              "      <td>3</td>\n",
              "      <td>169</td>\n",
              "      <td>74</td>\n",
              "      <td>19</td>\n",
              "      <td>125</td>\n",
              "      <td>29.9</td>\n",
              "      <td>0.268</td>\n",
              "      <td>31</td>\n",
              "      <td>tested_positive</td>\n",
              "    </tr>\n",
              "  </tbody>\n",
              "</table>\n",
              "</div>\n",
              "      <button class=\"colab-df-convert\" onclick=\"convertToInteractive('df-5aeef7de-2f6f-49e2-abc0-0539727d1352')\"\n",
              "              title=\"Convert this dataframe to an interactive table.\"\n",
              "              style=\"display:none;\">\n",
              "        \n",
              "  <svg xmlns=\"http://www.w3.org/2000/svg\" height=\"24px\"viewBox=\"0 0 24 24\"\n",
              "       width=\"24px\">\n",
              "    <path d=\"M0 0h24v24H0V0z\" fill=\"none\"/>\n",
              "    <path d=\"M18.56 5.44l.94 2.06.94-2.06 2.06-.94-2.06-.94-.94-2.06-.94 2.06-2.06.94zm-11 1L8.5 8.5l.94-2.06 2.06-.94-2.06-.94L8.5 2.5l-.94 2.06-2.06.94zm10 10l.94 2.06.94-2.06 2.06-.94-2.06-.94-.94-2.06-.94 2.06-2.06.94z\"/><path d=\"M17.41 7.96l-1.37-1.37c-.4-.4-.92-.59-1.43-.59-.52 0-1.04.2-1.43.59L10.3 9.45l-7.72 7.72c-.78.78-.78 2.05 0 2.83L4 21.41c.39.39.9.59 1.41.59.51 0 1.02-.2 1.41-.59l7.78-7.78 2.81-2.81c.8-.78.8-2.07 0-2.86zM5.41 20L4 18.59l7.72-7.72 1.47 1.35L5.41 20z\"/>\n",
              "  </svg>\n",
              "      </button>\n",
              "      \n",
              "  <style>\n",
              "    .colab-df-container {\n",
              "      display:flex;\n",
              "      flex-wrap:wrap;\n",
              "      gap: 12px;\n",
              "    }\n",
              "\n",
              "    .colab-df-convert {\n",
              "      background-color: #E8F0FE;\n",
              "      border: none;\n",
              "      border-radius: 50%;\n",
              "      cursor: pointer;\n",
              "      display: none;\n",
              "      fill: #1967D2;\n",
              "      height: 32px;\n",
              "      padding: 0 0 0 0;\n",
              "      width: 32px;\n",
              "    }\n",
              "\n",
              "    .colab-df-convert:hover {\n",
              "      background-color: #E2EBFA;\n",
              "      box-shadow: 0px 1px 2px rgba(60, 64, 67, 0.3), 0px 1px 3px 1px rgba(60, 64, 67, 0.15);\n",
              "      fill: #174EA6;\n",
              "    }\n",
              "\n",
              "    [theme=dark] .colab-df-convert {\n",
              "      background-color: #3B4455;\n",
              "      fill: #D2E3FC;\n",
              "    }\n",
              "\n",
              "    [theme=dark] .colab-df-convert:hover {\n",
              "      background-color: #434B5C;\n",
              "      box-shadow: 0px 1px 3px 1px rgba(0, 0, 0, 0.15);\n",
              "      filter: drop-shadow(0px 1px 2px rgba(0, 0, 0, 0.3));\n",
              "      fill: #FFFFFF;\n",
              "    }\n",
              "  </style>\n",
              "\n",
              "      <script>\n",
              "        const buttonEl =\n",
              "          document.querySelector('#df-5aeef7de-2f6f-49e2-abc0-0539727d1352 button.colab-df-convert');\n",
              "        buttonEl.style.display =\n",
              "          google.colab.kernel.accessAllowed ? 'block' : 'none';\n",
              "\n",
              "        async function convertToInteractive(key) {\n",
              "          const element = document.querySelector('#df-5aeef7de-2f6f-49e2-abc0-0539727d1352');\n",
              "          const dataTable =\n",
              "            await google.colab.kernel.invokeFunction('convertToInteractive',\n",
              "                                                     [key], {});\n",
              "          if (!dataTable) return;\n",
              "\n",
              "          const docLinkHtml = 'Like what you see? Visit the ' +\n",
              "            '<a target=\"_blank\" href=https://colab.research.google.com/notebooks/data_table.ipynb>data table notebook</a>'\n",
              "            + ' to learn more about interactive tables.';\n",
              "          element.innerHTML = '';\n",
              "          dataTable['output_type'] = 'display_data';\n",
              "          await google.colab.output.renderOutput(dataTable, element);\n",
              "          const docLink = document.createElement('div');\n",
              "          docLink.innerHTML = docLinkHtml;\n",
              "          element.appendChild(docLink);\n",
              "        }\n",
              "      </script>\n",
              "    </div>\n",
              "  </div>\n",
              "  "
            ]
          },
          "metadata": {},
          "execution_count": 10
        }
      ]
    },
    {
      "cell_type": "code",
      "source": [
        "df_test1 = df.iloc[:13, :]\n",
        "df_test2 = df.iloc[-25:, :]\n",
        "df_test = pd.concat([df_test1, df_test2]).reset_index(drop=True)\n",
        "df_test = df_test[[\"preg\", \"plas\", \"skin\", \"class\"]]\n",
        "\n",
        "# if you want to train with whole data, uncomment below line\n",
        "#df_test = df.copy()"
      ],
      "metadata": {
        "id": "1b0nzG00vXIE"
      },
      "execution_count": 64,
      "outputs": []
    },
    {
      "cell_type": "code",
      "source": [
        "sig = sigma(df = df_test)\n",
        "minor_cls, major_cls = minor_major(df_test)"
      ],
      "metadata": {
        "id": "8iiS7hHv8LYk"
      },
      "execution_count": 65,
      "outputs": []
    },
    {
      "cell_type": "code",
      "source": [
        "print(sig)\n",
        "print(minor_cls, major_cls)"
      ],
      "metadata": {
        "id": "8kYuhfhmRYQI",
        "outputId": "1c60862b-b20d-4989-9775-8dae83176df6",
        "colab": {
          "base_uri": "https://localhost:8080/"
        }
      },
      "execution_count": 66,
      "outputs": [
        {
          "output_type": "stream",
          "name": "stdout",
          "text": [
            "19.467665499489147\n",
            "tested_positive tested_negative\n"
          ]
        }
      ]
    },
    {
      "cell_type": "code",
      "source": [
        "df_test[\"class\"].value_counts()"
      ],
      "metadata": {
        "colab": {
          "base_uri": "https://localhost:8080/"
        },
        "id": "Bh1f_x9R9DYY",
        "outputId": "168a4369-0268-4d92-fe44-097754d315c6"
      },
      "execution_count": 67,
      "outputs": [
        {
          "output_type": "execute_result",
          "data": {
            "text/plain": [
              "tested_negative    24\n",
              "tested_positive    14\n",
              "Name: class, dtype: int64"
            ]
          },
          "metadata": {},
          "execution_count": 67
        }
      ]
    },
    {
      "cell_type": "code",
      "source": [
        "minor_df = df_test[df_test[\"class\"]==minor_cls]\n",
        "S_T = []\n",
        "FV_T = pd.DataFrame()\n",
        "for i in range(minor_df.shape[0]):\n",
        "  FV1 = minor_df.iloc[[i], :-1]\n",
        "  S_T.append(S_creator(df_test, FV1))\n",
        "  FV_T = pd.concat([FV_T, FV1])"
      ],
      "metadata": {
        "id": "gP-yaPe-6EL2"
      },
      "execution_count": 68,
      "outputs": []
    },
    {
      "cell_type": "code",
      "source": [
        "landa_max = -1000\n",
        "for i, S in enumerate(S_T):\n",
        "\n",
        "  FV1 = FV_T.iloc[[i]]\n",
        "  df_new = df_test.drop(index = FV1.index, axis = 0 )\n",
        "  cls = []\n",
        "  flag = 0\n",
        "  #sort Data\n",
        "  for vector in df_new.values:\n",
        "    vec = np.array(list(vector[:-1]))\n",
        "    cls.append(vector[-1])\n",
        "    KSx = give_KSx(S, vec, sigma = sig)\n",
        "    KSS = give_KSS(S, sigma = sig)\n",
        "    DSS = np.sqrt(KSS)\n",
        "    beta = np.dot(np.dot(np.transpose(KSx), np.linalg.inv(KSS)), DSS)\n",
        "    if flag == 0:\n",
        "      B = beta\n",
        "      flag = -1\n",
        "      continue\n",
        "    B = np.concatenate((B, beta))\n",
        "\n",
        "  B_df = pd.DataFrame(B)\n",
        "  B_df[\"Class\"] = cls\n",
        "\n",
        "  landa = give_landa(B_df, minor_cls, major_cls)\n",
        "\n",
        "  landa_t = np.sum(landa)/len(S)\n",
        "  if landa_t > landa_max:\n",
        "    print(landa_t)\n",
        "    landa_max = landa_t\n",
        "    best_S = S"
      ],
      "metadata": {
        "id": "Llzfo9iI4V25",
        "outputId": "328e42fe-0ed7-42d4-9bb8-65a180fd92e7",
        "colab": {
          "base_uri": "https://localhost:8080/"
        }
      },
      "execution_count": 69,
      "outputs": [
        {
          "output_type": "stream",
          "name": "stdout",
          "text": [
            "0.08726243728375886\n",
            "0.10301348474186764\n"
          ]
        }
      ]
    },
    {
      "cell_type": "markdown",
      "source": [
        "## Second Section"
      ],
      "metadata": {
        "id": "5wYfkoa5jpx9"
      }
    },
    {
      "cell_type": "code",
      "source": [
        "for m in range(np.shape(best_S)[0]):\n",
        "  omeg_m = []\n",
        "  for n in range(np.shape(best_S)[0]):\n",
        "    omeg_mn = np.sum(np.dot(B_df.iloc[:, m], B_df.iloc[:, n]))\n",
        "    omeg_m.insert(n, omeg_mn)\n",
        "  if m == 0:\n",
        "    omeg = omeg_m\n",
        "    continue\n",
        "  omeg = list(np.concatenate((omeg, omeg_m)))\n",
        "omeg = np.array(omeg).reshape((np.shape(best_S)[0], np.shape(best_S)[0]))"
      ],
      "metadata": {
        "id": "KKTW7CUj_gm6"
      },
      "execution_count": 70,
      "outputs": []
    },
    {
      "cell_type": "code",
      "source": [
        "H = []\n",
        "for m in range(np.shape(best_S)[0]):\n",
        "  H_j = np.sum(B_df.iloc[m, :-1])\n",
        "  H_m = np.sum(np.dot(B_df.iloc[:,m], (1-H_j)))\n",
        "  H.insert(m, H_m)"
      ],
      "metadata": {
        "id": "mtZiwxS_An-l"
      },
      "execution_count": 71,
      "outputs": []
    },
    {
      "cell_type": "code",
      "source": [
        "tau = H.copy()"
      ],
      "metadata": {
        "id": "PcYbQbSEir_6"
      },
      "execution_count": 72,
      "outputs": []
    },
    {
      "cell_type": "code",
      "source": [
        "C = []\n",
        "for m in range(np.shape(best_S)[0]):\n",
        "  c_val = 1 - np.sum(B_df.iloc[m, :-1])\n",
        "  C.insert(m, c_val)\n",
        "C = np.sum(np.square(C))"
      ],
      "metadata": {
        "id": "I173c2EVBqwx"
      },
      "execution_count": 73,
      "outputs": []
    },
    {
      "cell_type": "code",
      "source": [
        "B_df[\"y_i\"] = B_df['Class']\n",
        "B_df[\"y_i\"].replace({minor_cls: -1, major_cls: 1}, inplace=True)"
      ],
      "metadata": {
        "id": "2Qr7X3V_kDtS"
      },
      "execution_count": 74,
      "outputs": []
    },
    {
      "cell_type": "code",
      "source": [
        "P = []\n",
        "for m in range(np.shape(best_S)[0]):\n",
        "  P_m = np.sum(np.dot(B_df.iloc[:, m], B_df[\"y_i\"]))\n",
        "  P.insert(m, P_m)"
      ],
      "metadata": {
        "id": "qRZFTC96kUO3"
      },
      "execution_count": 75,
      "outputs": []
    },
    {
      "cell_type": "code",
      "source": [
        "L = np.sum(np.dot((1 - B_df.iloc[:, :-2].sum(axis=1)), B_df.iloc[:, -1]))"
      ],
      "metadata": {
        "id": "3B-5qDTekVpH"
      },
      "execution_count": 76,
      "outputs": []
    },
    {
      "cell_type": "code",
      "source": [
        "H = np.array(H).reshape((-1, 1))\n",
        "tau = np.array(tau).reshape((-1, 1))\n",
        "P = np.array(P).reshape((-1, 1))"
      ],
      "metadata": {
        "id": "z7iaLwGbru6B"
      },
      "execution_count": 77,
      "outputs": []
    },
    {
      "cell_type": "code",
      "source": [
        "row_a = np.concatenate((omeg, H), axis = 1)\n",
        "row_b = np.append(tau.transpose(), C)\n",
        "row_b = row_b.reshape((1,row_b.shape[0]))\n",
        "A = np.concatenate((row_a, row_b), axis = 0)"
      ],
      "metadata": {
        "id": "PE1vttVZR0SN"
      },
      "execution_count": 78,
      "outputs": []
    },
    {
      "cell_type": "code",
      "source": [
        "Z = np.append(P, L).reshape((-1, 1))"
      ],
      "metadata": {
        "id": "uw9RvyTNUUbA"
      },
      "execution_count": 79,
      "outputs": []
    },
    {
      "cell_type": "code",
      "source": [
        "output = np.linalg.solve(A, Z)\n",
        "y_hat = output[:5]\n",
        "b = output[-1]"
      ],
      "metadata": {
        "id": "XDhQDXh3Xv-e"
      },
      "execution_count": 80,
      "outputs": []
    },
    {
      "cell_type": "code",
      "source": [
        "print(\"y_hat: \", y_hat)\n",
        "print(\"b: \", b)"
      ],
      "metadata": {
        "id": "NLsfi2BuYJL8",
        "outputId": "fe5dff11-a99a-4a0f-ce50-8b7f2849bde5",
        "colab": {
          "base_uri": "https://localhost:8080/"
        }
      },
      "execution_count": 81,
      "outputs": [
        {
          "output_type": "stream",
          "name": "stdout",
          "text": [
            "y_hat:  [[-145.15468493]\n",
            " [   9.44876496]\n",
            " [  -0.34252217]\n",
            " [  -0.99157199]\n",
            " [   9.45855301]]\n",
            "b:  [-6.68553345]\n"
          ]
        }
      ]
    },
    {
      "cell_type": "markdown",
      "source": [
        "## g(xi)"
      ],
      "metadata": {
        "id": "otogX19-37To"
      }
    },
    {
      "cell_type": "code",
      "source": [
        "B_df[\"g(xi)\"] = np.nan\n",
        "for i in range(B_df.shape[0]):\n",
        "  B_df.loc[i, \"g(xi)\"] = np.dot(B_df.iloc[i, 0:-3], (y_hat-b)) + b"
      ],
      "metadata": {
        "id": "zeW6EOazY1gL"
      },
      "execution_count": 82,
      "outputs": []
    },
    {
      "cell_type": "code",
      "source": [
        "groups = B_df.groupby('Class')\n",
        "\n",
        "# Plot\n",
        "fig, ax = plt.subplots()\n",
        "ax.margins(0.05) # Optional, just adds 5% padding to the autoscaling\n",
        "for name, group in groups:\n",
        "    ax.plot(np.arange(0, group.shape[0]), group[\"g(xi)\"], marker='o', linestyle='', ms=8, label=name)\n",
        "    print(name, \" g(xi) mean value: \", np.mean(group[\"g(xi)\"]))\n",
        "ax.legend()\n",
        "plt.ylabel(\"g(xi)\")\n",
        "\n",
        "plt.show()"
      ],
      "metadata": {
        "colab": {
          "base_uri": "https://localhost:8080/",
          "height": 300
        },
        "id": "ZCcfayyE6wcP",
        "outputId": "6194ef64-0f5d-48dc-ef61-506d87f1f624"
      },
      "execution_count": 83,
      "outputs": [
        {
          "output_type": "stream",
          "name": "stdout",
          "text": [
            "tested_negative  g(xi) mean value:  -5.687673399953385\n",
            "tested_positive  g(xi) mean value:  -3.791829024731124\n"
          ]
        },
        {
          "output_type": "display_data",
          "data": {
            "text/plain": [
              "<Figure size 432x288 with 1 Axes>"
            ],
            "image/png": "[encoded data removed]"
          },
          "metadata": {
            "needs_background": "light"
          }
        }
      ]
    },
    {
      "cell_type": "code",
      "source": [
        "# change threshold to change the model's performance:\n",
        "classifier_thresh = -3\n",
        "\n",
        "B_df[\"y_pred\"] = major_cls\n",
        "for i, g_xi in enumerate(B_df[\"g(xi)\"]):\n",
        "  if g_xi > classifier_thresh:\n",
        "    B_df.loc[i, \"y_pred\"] = minor_cls"
      ],
      "metadata": {
        "id": "b0sKJfT463Xn"
      },
      "execution_count": 102,
      "outputs": []
    },
    {
      "cell_type": "markdown",
      "source": [
        "## Model Evaluation"
      ],
      "metadata": {
        "id": "-_5bOv7IANQq"
      }
    },
    {
      "cell_type": "markdown",
      "source": [
        "* Confusion Matrix"
      ],
      "metadata": {
        "id": "pGfAs9fHAP9D"
      }
    },
    {
      "cell_type": "code",
      "source": [
        "cls_types= np.array([major_cls, minor_cls])"
      ],
      "metadata": {
        "id": "-gfOjgLuDcxK"
      },
      "execution_count": 103,
      "outputs": []
    },
    {
      "cell_type": "code",
      "source": [
        "Y_pred = B_df[\"y_pred\"].values\n",
        "Y_true = B_df[\"Class\"].values"
      ],
      "metadata": {
        "id": "q0mZ-IOFB8fE"
      },
      "execution_count": 104,
      "outputs": []
    },
    {
      "cell_type": "code",
      "source": [
        "cm = confusion_matrix(Y_true, Y_pred)\n",
        "plt.figure(figsize=(8, 8))\n",
        "ax = sns.heatmap(cm, cmap=plt.cm.Greens, annot=True, square=True, xticklabels=cls_types, yticklabels=cls_types)\n",
        "ax.set_ylabel('Actual')\n",
        "ax.set_xlabel('Predicted')"
      ],
      "metadata": {
        "colab": {
          "base_uri": "https://localhost:8080/",
          "height": 483
        },
        "id": "M4FvNLIeB4Lk",
        "outputId": "aa9b240e-e5c0-4905-a437-9c532c17e3bd"
      },
      "execution_count": 105,
      "outputs": [
        {
          "output_type": "execute_result",
          "data": {
            "text/plain": [
              "Text(0.5, 88.97374999999997, 'Predicted')"
            ]
          },
          "metadata": {},
          "execution_count": 105
        },
        {
          "output_type": "display_data",
          "data": {
            "text/plain": [
              "<Figure size 576x576 with 2 Axes>"
            ],
            "image/png": "[encoded data removed]"
          },
          "metadata": {
            "needs_background": "light"
          }
        }
      ]
    },
    {
      "cell_type": "code",
      "source": [
        "TN = cm[0][0]\n",
        "TP = cm[1][1]\n",
        "FN = cm[0][1]\n",
        "FP = cm[1][0]\n",
        "\n",
        "TPR = TP / (TP+FN)\n",
        "TNR = TN / (TN+FP)\n",
        "precision = TP / (TP+FP)"
      ],
      "metadata": {
        "id": "76vbyURFEMOL"
      },
      "execution_count": 106,
      "outputs": []
    },
    {
      "cell_type": "code",
      "source": [
        "G_mean = np.sqrt(TPR*TNR)\n",
        "F_measure = (2*precision*TPR)/(precision+TPR)"
      ],
      "metadata": {
        "id": "mkU5DthAGWuF"
      },
      "execution_count": 107,
      "outputs": []
    },
    {
      "cell_type": "code",
      "source": [
        "print(\"G-mean for threshold of \", classifier_thresh, \" is: \", G_mean)\n",
        "print(\"F-measure for threshold of \", classifier_thresh, \" is: \", F_measure)"
      ],
      "metadata": {
        "colab": {
          "base_uri": "https://localhost:8080/"
        },
        "id": "Ni_AQWbvGbUg",
        "outputId": "a1e5b7bb-33cc-4f2e-9ea3-7def8a6733bb"
      },
      "execution_count": 108,
      "outputs": [
        {
          "output_type": "stream",
          "name": "stdout",
          "text": [
            "G-mean for threshold of  -3  is:  0.6727452763836783\n",
            "F-measure for threshold of  -3  is:  0.4761904761904762\n"
          ]
        }
      ]
    },
    {
      "cell_type": "code",
      "source": [
        "acc = (TP+TN) / (TP+TN+FN+FP)\n",
        "print(acc)"
      ],
      "metadata": {
        "id": "zLrFzNIgGcIn",
        "outputId": "a257e4e1-7b9b-4280-c57b-7e79f4c1dfec",
        "colab": {
          "base_uri": "https://localhost:8080/"
        }
      },
      "execution_count": 109,
      "outputs": [
        {
          "output_type": "stream",
          "name": "stdout",
          "text": [
            "0.7027027027027027\n"
          ]
        }
      ]
    },
    {
      "cell_type": "code",
      "source": [
        "print(precision)"
      ],
      "metadata": {
        "id": "a9j7eWQjvKaP",
        "outputId": "948a4e37-44f9-4eca-91cd-bbb20bd09168",
        "colab": {
          "base_uri": "https://localhost:8080/"
        }
      },
      "execution_count": 110,
      "outputs": [
        {
          "output_type": "stream",
          "name": "stdout",
          "text": [
            "0.38461538461538464\n"
          ]
        }
      ]
    },
    {
      "cell_type": "code",
      "source": [
        ""
      ],
      "metadata": {
        "id": "rnlvj01LxQ3X"
      },
      "execution_count": null,
      "outputs": []
    }
  ]
}