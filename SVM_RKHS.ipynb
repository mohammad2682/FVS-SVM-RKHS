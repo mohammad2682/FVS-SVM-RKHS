{
  "nbformat": 4,
  "nbformat_minor": 0,
  "metadata": {
    "colab": {
      "name": "SVM-RKHS.ipynb",
      "provenance": [],
      "include_colab_link": true
    },
    "kernelspec": {
      "name": "python3",
      "display_name": "Python 3"
    },
    "language_info": {
      "name": "python"
    },
    "accelerator": "GPU",
    "gpuClass": "standard"
  },
  "cells": [
    {
      "cell_type": "markdown",
      "metadata": {
        "id": "view-in-github",
        "colab_type": "text"
      },
      "source": [
        "<a href=\"https://colab.research.google.com/github/mohammad2682/FVS-SVM-RKHS/blob/main/SVM_RKHS.ipynb\" target=\"_parent\"><img src=\"https://colab.research.google.com/assets/colab-badge.svg\" alt=\"Open In Colab\"/></a>"
      ]
    },
    {
      "cell_type": "code",
      "execution_count": 2,
      "metadata": {
        "id": "aTY1BRRDvfAs"
      },
      "outputs": [],
      "source": [
        "import pandas as pd\n",
        "import numpy as np\n",
        "import matplotlib.pyplot as plt\n",
        "import os\n",
        "from sklearn.metrics import confusion_matrix\n",
        "import seaborn as sns\n",
        "from IPython.display import clear_output"
      ]
    },
    {
      "cell_type": "code",
      "source": [
        "!git clone https://github.com/mohammad2682/FVS-SVM-RKHS"
      ],
      "metadata": {
        "id": "FckMrNAZvshl",
        "colab": {
          "base_uri": "https://localhost:8080/"
        },
        "outputId": "6ee7c1b5-2c4f-4a16-ea40-d53180573abe"
      },
      "execution_count": 3,
      "outputs": [
        {
          "output_type": "stream",
          "name": "stdout",
          "text": [
            "Cloning into 'FVS-SVM-RKHS'...\n",
            "remote: Enumerating objects: 116, done.\u001b[K\n",
            "remote: Counting objects: 100% (116/116), done.\u001b[K\n",
            "remote: Compressing objects: 100% (99/99), done.\u001b[K\n",
            "remote: Total 116 (delta 41), reused 41 (delta 17), pack-reused 0\u001b[K\n",
            "Receiving objects: 100% (116/116), 928.22 KiB | 1.32 MiB/s, done.\n",
            "Resolving deltas: 100% (41/41), done.\n"
          ]
        }
      ]
    },
    {
      "cell_type": "code",
      "source": [
        "def sigma(df):\n",
        "  N = df.shape[0]\n",
        "  sigma = []\n",
        "  for i in range(N):\n",
        "    for j in range(i+1, N):\n",
        "      x_i = df.iloc[[i], :-1]\n",
        "      x_j = df.iloc[[j], :-1]\n",
        "      sigma.append(np.square(np.linalg.norm(x_i.values - x_j.values)))\n",
        "\n",
        "    clear_output(wait=True)\n",
        "    print(str((i/N)*100)+\"%\")\n",
        "\n",
        "  return 0.1 * np.max(sigma)"
      ],
      "metadata": {
        "id": "frI-fAhCf3qO"
      },
      "execution_count": 14,
      "outputs": []
    },
    {
      "cell_type": "code",
      "source": [
        "def K(FV1, FV2, sig):\n",
        "  dist = np.linalg.norm(FV1-FV2)\n",
        "  return np.exp(-1*np.square(dist)/(2*sig))"
      ],
      "metadata": {
        "id": "c3-rXA9xaqe0"
      },
      "execution_count": 5,
      "outputs": []
    },
    {
      "cell_type": "code",
      "source": [
        "def give_KSS(S, sig):\n",
        "  KSS = []\n",
        "  for vec1 in S:\n",
        "    for vec2 in S:\n",
        "      k = K(np.array(vec1), np.array(vec2), sig = sig)\n",
        "      KSS.append(k)\n",
        "\n",
        "  return np.array(KSS).reshape((len(S), len(S)))"
      ],
      "metadata": {
        "id": "A8b9TgKaZwMq"
      },
      "execution_count": 6,
      "outputs": []
    },
    {
      "cell_type": "code",
      "source": [
        "def give_KSx(S, x, sig):\n",
        "  KSx = []\n",
        "  for s in S:\n",
        "    kx = K(np.array(s), x, sig = sig)\n",
        "    KSx.append(kx)\n",
        "  return np.array(KSx).reshape((len(S), 1))"
      ],
      "metadata": {
        "id": "MQuA7GCggQMB"
      },
      "execution_count": 7,
      "outputs": []
    },
    {
      "cell_type": "code",
      "source": [
        "def minor_major(df):\n",
        "  cls = df.iloc[:,-1].unique()\n",
        "  cls0 = df[df.iloc[:,-1]==cls[0]].shape[0]\n",
        "  cls1 = df[df.iloc[:,-1]==cls[1]].shape[0]\n",
        "  minor = cls[0]\n",
        "  major = cls[1]\n",
        "  if cls0>cls1:\n",
        "    minor = cls[1]\n",
        "    major = cls[0]\n",
        "  return minor, major"
      ],
      "metadata": {
        "id": "X-cwXA2pLuHK"
      },
      "execution_count": 8,
      "outputs": []
    },
    {
      "cell_type": "code",
      "source": [
        "def S_creator(df, FV1, SN):\n",
        "  df_new = df.drop(index = FV1.index)\n",
        "  FV1 = FV1.iloc[0].values\n",
        "  tau = min(0.001, 1/df.shape[0]) #minimum of 0.001, 1/N\n",
        "  S = [list(FV1)]\n",
        "  cnt = 1\n",
        "  for vec in df_new.iloc[:, :-1].values:\n",
        "    KSx = give_KSx(S, vec, sig = sig)\n",
        "    KSS = give_KSS(S, sig = sig)\n",
        "    LF = abs(1-(np.dot(np.dot(np.transpose(KSx), np.linalg.inv(KSS)), KSx)))\n",
        "    if LF > tau:\n",
        "      S.append(list(vec))\n",
        "      cnt += 1\n",
        "      \n",
        "      clear_output(wait=True)\n",
        "      print(str((cnt/SN)*100)+\"%\")\n",
        "      \n",
        "      if cnt == SN:\n",
        "        break\n",
        "  return S"
      ],
      "metadata": {
        "id": "2rAFLpiN51-c"
      },
      "execution_count": 101,
      "outputs": []
    },
    {
      "cell_type": "code",
      "source": [
        "def give_landa(df, minor_cls, major_cls):\n",
        "  minor = df[df[\"Class\"] == minor_cls]\n",
        "  major = df[df[\"Class\"] == major_cls]\n",
        "  landa = []\n",
        "  for col in df.columns[:-1]:\n",
        "    mean_minor = minor[col].mean()\n",
        "    mean_major = major[col].mean()\n",
        "    var_minor = minor[col].var()\n",
        "    var_major = major[col].var()\n",
        "    landa_i = np.square(mean_minor - mean_major)/(var_minor - var_major)\n",
        "    landa.append(landa_i)\n",
        "  return landa"
      ],
      "metadata": {
        "id": "Ey7FFlegNVky"
      },
      "execution_count": 10,
      "outputs": []
    },
    {
      "cell_type": "code",
      "source": [
        "df = pd.read_csv(\"FVS-SVM-RKHS/datasets/glass1.csv\")\n",
        "df.head()"
      ],
      "metadata": {
        "colab": {
          "base_uri": "https://localhost:8080/",
          "height": 206
        },
        "id": "fHkTbNeeaY33",
        "outputId": "1d759908-b296-423b-f335-9c0e6f551482"
      },
      "execution_count": 90,
      "outputs": [
        {
          "output_type": "execute_result",
          "data": {
            "text/plain": [
              "         RI        Na       Mg       Al       Si        K        Ca   Ba  \\\n",
              "0  1.515888  12.87795  3.43036  1.40066  73.2820  0.68931   8.04468  0.0   \n",
              "1  1.517642  12.97770  3.53812  1.21127  73.0020  0.65205   8.52888  0.0   \n",
              "2  1.522130  14.20795  3.82099  0.46976  71.7700  0.11178   9.57260  0.0   \n",
              "3  1.522221  13.21045  3.77160  0.79076  71.9884  0.13041  10.24520  0.0   \n",
              "4  1.517551  13.39000  3.65935  1.18880  72.7892  0.57132   8.27064  0.0   \n",
              "\n",
              "       Fe     Class  \n",
              "0  0.1224  negative  \n",
              "1  0.0000  negative  \n",
              "2  0.0000  negative  \n",
              "3  0.0000  negative  \n",
              "4  0.0561  negative  "
            ],
            "text/html": [
              "\n",
              "  <div id=\"df-253d1b9c-72c5-4135-bb7d-ef94f67a03ed\">\n",
              "    <div class=\"colab-df-container\">\n",
              "      <div>\n",
              "<style scoped>\n",
              "    .dataframe tbody tr th:only-of-type {\n",
              "        vertical-align: middle;\n",
              "    }\n",
              "\n",
              "    .dataframe tbody tr th {\n",
              "        vertical-align: top;\n",
              "    }\n",
              "\n",
              "    .dataframe thead th {\n",
              "        text-align: right;\n",
              "    }\n",
              "</style>\n",
              "<table border=\"1\" class=\"dataframe\">\n",
              "  <thead>\n",
              "    <tr style=\"text-align: right;\">\n",
              "      <th></th>\n",
              "      <th>RI</th>\n",
              "      <th>Na</th>\n",
              "      <th>Mg</th>\n",
              "      <th>Al</th>\n",
              "      <th>Si</th>\n",
              "      <th>K</th>\n",
              "      <th>Ca</th>\n",
              "      <th>Ba</th>\n",
              "      <th>Fe</th>\n",
              "      <th>Class</th>\n",
              "    </tr>\n",
              "  </thead>\n",
              "  <tbody>\n",
              "    <tr>\n",
              "      <th>0</th>\n",
              "      <td>1.515888</td>\n",
              "      <td>12.87795</td>\n",
              "      <td>3.43036</td>\n",
              "      <td>1.40066</td>\n",
              "      <td>73.2820</td>\n",
              "      <td>0.68931</td>\n",
              "      <td>8.04468</td>\n",
              "      <td>0.0</td>\n",
              "      <td>0.1224</td>\n",
              "      <td>negative</td>\n",
              "    </tr>\n",
              "    <tr>\n",
              "      <th>1</th>\n",
              "      <td>1.517642</td>\n",
              "      <td>12.97770</td>\n",
              "      <td>3.53812</td>\n",
              "      <td>1.21127</td>\n",
              "      <td>73.0020</td>\n",
              "      <td>0.65205</td>\n",
              "      <td>8.52888</td>\n",
              "      <td>0.0</td>\n",
              "      <td>0.0000</td>\n",
              "      <td>negative</td>\n",
              "    </tr>\n",
              "    <tr>\n",
              "      <th>2</th>\n",
              "      <td>1.522130</td>\n",
              "      <td>14.20795</td>\n",
              "      <td>3.82099</td>\n",
              "      <td>0.46976</td>\n",
              "      <td>71.7700</td>\n",
              "      <td>0.11178</td>\n",
              "      <td>9.57260</td>\n",
              "      <td>0.0</td>\n",
              "      <td>0.0000</td>\n",
              "      <td>negative</td>\n",
              "    </tr>\n",
              "    <tr>\n",
              "      <th>3</th>\n",
              "      <td>1.522221</td>\n",
              "      <td>13.21045</td>\n",
              "      <td>3.77160</td>\n",
              "      <td>0.79076</td>\n",
              "      <td>71.9884</td>\n",
              "      <td>0.13041</td>\n",
              "      <td>10.24520</td>\n",
              "      <td>0.0</td>\n",
              "      <td>0.0000</td>\n",
              "      <td>negative</td>\n",
              "    </tr>\n",
              "    <tr>\n",
              "      <th>4</th>\n",
              "      <td>1.517551</td>\n",
              "      <td>13.39000</td>\n",
              "      <td>3.65935</td>\n",
              "      <td>1.18880</td>\n",
              "      <td>72.7892</td>\n",
              "      <td>0.57132</td>\n",
              "      <td>8.27064</td>\n",
              "      <td>0.0</td>\n",
              "      <td>0.0561</td>\n",
              "      <td>negative</td>\n",
              "    </tr>\n",
              "  </tbody>\n",
              "</table>\n",
              "</div>\n",
              "      <button class=\"colab-df-convert\" onclick=\"convertToInteractive('df-253d1b9c-72c5-4135-bb7d-ef94f67a03ed')\"\n",
              "              title=\"Convert this dataframe to an interactive table.\"\n",
              "              style=\"display:none;\">\n",
              "        \n",
              "  <svg xmlns=\"http://www.w3.org/2000/svg\" height=\"24px\"viewBox=\"0 0 24 24\"\n",
              "       width=\"24px\">\n",
              "    <path d=\"M0 0h24v24H0V0z\" fill=\"none\"/>\n",
              "    <path d=\"M18.56 5.44l.94 2.06.94-2.06 2.06-.94-2.06-.94-.94-2.06-.94 2.06-2.06.94zm-11 1L8.5 8.5l.94-2.06 2.06-.94-2.06-.94L8.5 2.5l-.94 2.06-2.06.94zm10 10l.94 2.06.94-2.06 2.06-.94-2.06-.94-.94-2.06-.94 2.06-2.06.94z\"/><path d=\"M17.41 7.96l-1.37-1.37c-.4-.4-.92-.59-1.43-.59-.52 0-1.04.2-1.43.59L10.3 9.45l-7.72 7.72c-.78.78-.78 2.05 0 2.83L4 21.41c.39.39.9.59 1.41.59.51 0 1.02-.2 1.41-.59l7.78-7.78 2.81-2.81c.8-.78.8-2.07 0-2.86zM5.41 20L4 18.59l7.72-7.72 1.47 1.35L5.41 20z\"/>\n",
              "  </svg>\n",
              "      </button>\n",
              "      \n",
              "  <style>\n",
              "    .colab-df-container {\n",
              "      display:flex;\n",
              "      flex-wrap:wrap;\n",
              "      gap: 12px;\n",
              "    }\n",
              "\n",
              "    .colab-df-convert {\n",
              "      background-color: #E8F0FE;\n",
              "      border: none;\n",
              "      border-radius: 50%;\n",
              "      cursor: pointer;\n",
              "      display: none;\n",
              "      fill: #1967D2;\n",
              "      height: 32px;\n",
              "      padding: 0 0 0 0;\n",
              "      width: 32px;\n",
              "    }\n",
              "\n",
              "    .colab-df-convert:hover {\n",
              "      background-color: #E2EBFA;\n",
              "      box-shadow: 0px 1px 2px rgba(60, 64, 67, 0.3), 0px 1px 3px 1px rgba(60, 64, 67, 0.15);\n",
              "      fill: #174EA6;\n",
              "    }\n",
              "\n",
              "    [theme=dark] .colab-df-convert {\n",
              "      background-color: #3B4455;\n",
              "      fill: #D2E3FC;\n",
              "    }\n",
              "\n",
              "    [theme=dark] .colab-df-convert:hover {\n",
              "      background-color: #434B5C;\n",
              "      box-shadow: 0px 1px 3px 1px rgba(0, 0, 0, 0.15);\n",
              "      filter: drop-shadow(0px 1px 2px rgba(0, 0, 0, 0.3));\n",
              "      fill: #FFFFFF;\n",
              "    }\n",
              "  </style>\n",
              "\n",
              "      <script>\n",
              "        const buttonEl =\n",
              "          document.querySelector('#df-253d1b9c-72c5-4135-bb7d-ef94f67a03ed button.colab-df-convert');\n",
              "        buttonEl.style.display =\n",
              "          google.colab.kernel.accessAllowed ? 'block' : 'none';\n",
              "\n",
              "        async function convertToInteractive(key) {\n",
              "          const element = document.querySelector('#df-253d1b9c-72c5-4135-bb7d-ef94f67a03ed');\n",
              "          const dataTable =\n",
              "            await google.colab.kernel.invokeFunction('convertToInteractive',\n",
              "                                                     [key], {});\n",
              "          if (!dataTable) return;\n",
              "\n",
              "          const docLinkHtml = 'Like what you see? Visit the ' +\n",
              "            '<a target=\"_blank\" href=https://colab.research.google.com/notebooks/data_table.ipynb>data table notebook</a>'\n",
              "            + ' to learn more about interactive tables.';\n",
              "          element.innerHTML = '';\n",
              "          dataTable['output_type'] = 'display_data';\n",
              "          await google.colab.output.renderOutput(dataTable, element);\n",
              "          const docLink = document.createElement('div');\n",
              "          docLink.innerHTML = docLinkHtml;\n",
              "          element.appendChild(docLink);\n",
              "        }\n",
              "      </script>\n",
              "    </div>\n",
              "  </div>\n",
              "  "
            ]
          },
          "metadata": {},
          "execution_count": 90
        }
      ]
    },
    {
      "cell_type": "code",
      "source": [
        "#df.sort_values(by=\"class\", inplace=True)\n",
        "#df_test1 = df.iloc[:100, :]\n",
        "#df_test2 = df.iloc[-20:, :]\n",
        "#df_test = pd.concat([df_test1, df_test2]).reset_index(drop=True)\n",
        "#df_test = df_test[[\"preg\", \"plas\", \"skin\", \"class\"]]\n",
        "\n",
        "# if you want to train with whole data, uncomment below line\n",
        "df_train = df.copy()"
      ],
      "metadata": {
        "id": "1b0nzG00vXIE"
      },
      "execution_count": 94,
      "outputs": []
    },
    {
      "cell_type": "code",
      "source": [
        "sig = sigma(df = df_train)\n",
        "minor_cls, major_cls = minor_major(df_train)"
      ],
      "metadata": {
        "id": "8iiS7hHv8LYk",
        "colab": {
          "base_uri": "https://localhost:8080/"
        },
        "outputId": "40ed96b7-9673-48dd-837f-767418266c8c"
      },
      "execution_count": 96,
      "outputs": [
        {
          "output_type": "stream",
          "name": "stdout",
          "text": [
            "99.53271028037383%\n"
          ]
        }
      ]
    },
    {
      "cell_type": "code",
      "source": [
        "print(sig)\n",
        "print(minor_cls, major_cls)"
      ],
      "metadata": {
        "id": "8kYuhfhmRYQI",
        "outputId": "cf924bd8-5985-4e16-f330-5ff6fd3f5fd4",
        "colab": {
          "base_uri": "https://localhost:8080/"
        }
      },
      "execution_count": 97,
      "outputs": [
        {
          "output_type": "stream",
          "name": "stdout",
          "text": [
            "1.2037370265361118\n",
            "positive negative\n"
          ]
        }
      ]
    },
    {
      "cell_type": "code",
      "source": [
        "if \"Class\" in df_train:\n",
        "  df_train.rename(columns={\"Class\": \"class\"}, inplace= True)\n",
        "df_train[\"class\"].value_counts()"
      ],
      "metadata": {
        "colab": {
          "base_uri": "https://localhost:8080/"
        },
        "id": "Bh1f_x9R9DYY",
        "outputId": "359930e7-7be8-4a5c-e631-27d55bb026f7"
      },
      "execution_count": 98,
      "outputs": [
        {
          "output_type": "execute_result",
          "data": {
            "text/plain": [
              "negative    138\n",
              "positive     76\n",
              "Name: class, dtype: int64"
            ]
          },
          "metadata": {},
          "execution_count": 98
        }
      ]
    },
    {
      "cell_type": "code",
      "source": [
        "SN = 50\n",
        "minor_df = df_train[df_train[\"class\"]==minor_cls]\n",
        "S_T = []\n",
        "FV_T = pd.DataFrame()\n",
        "for i in range(minor_df.shape[0]):\n",
        "  FV1 = minor_df.iloc[[i], :-1]\n",
        "  S_T.append(S_creator(df_train, FV1, SN))\n",
        "  FV_T = pd.concat([FV_T, FV1])"
      ],
      "metadata": {
        "id": "gP-yaPe-6EL2",
        "outputId": "4f4a8f1b-5d9b-48be-ce73-05aae20d2d11",
        "colab": {
          "base_uri": "https://localhost:8080/"
        }
      },
      "execution_count": 102,
      "outputs": [
        {
          "output_type": "stream",
          "name": "stdout",
          "text": [
            "100.0%\n"
          ]
        }
      ]
    },
    {
      "cell_type": "code",
      "source": [
        "landa_max = -1000\n",
        "tot = len(S_T)-1\n",
        "for i, S in enumerate(S_T):\n",
        "\n",
        "  FV1 = FV_T.iloc[[i]]\n",
        "  df_new = df_train.drop(index = FV1.index, axis = 0 )\n",
        "  cls = []\n",
        "  flag = 0\n",
        "  #sort Data\n",
        "  for vector in df_new.values:\n",
        "    vec = np.array(list(vector[:-1]))\n",
        "    cls.append(vector[-1])\n",
        "    KSx = give_KSx(S, vec, sig = sig)\n",
        "    KSS = give_KSS(S, sig = sig)\n",
        "    DSS = np.diag(np.diag(np.sqrt(KSS)))\n",
        "    beta = np.dot(np.transpose(KSx), np.linalg.inv(KSS))\n",
        "    #beta = np.dot(np.dot(np.transpose(KSx), np.linalg.inv(KSS)), DSS)\n",
        "    if flag == 0:\n",
        "      B = beta\n",
        "      flag = -1\n",
        "      continue\n",
        "    B = np.concatenate((B, beta))\n",
        "\n",
        "  B_df = pd.DataFrame(B)\n",
        "  B_df[\"Class\"] = cls\n",
        "\n",
        "  '''\n",
        "  a = B_df[B_df[\"Class\"] == minor_cls]\n",
        "  Npos = a.shape[0] * -1\n",
        "  a = pd.concat([a,a])\n",
        "  a = pd.concat([a, B_df[B_df[\"Class\"]==major_cls].iloc[:Npos,:]])\n",
        "  '''\n",
        "\n",
        "  landa = give_landa(B_df, minor_cls, major_cls)\n",
        "\n",
        "  clear_output(wait=True)\n",
        "  print(str((i/tot)*100)+\"%\")\n",
        "\n",
        "  landa_t = np.sum(landa)/len(S)\n",
        "  if landa_t > landa_max:\n",
        "    #print(landa_t)\n",
        "    landa_max = landa_t\n",
        "    best_S = S\n",
        "    best_B = B_df.copy()\n",
        "\n",
        "B_df = best_B.copy()"
      ],
      "metadata": {
        "id": "Llzfo9iI4V25",
        "outputId": "d435abce-2a61-4179-da54-f2625f22daaf",
        "colab": {
          "base_uri": "https://localhost:8080/"
        }
      },
      "execution_count": 103,
      "outputs": [
        {
          "output_type": "stream",
          "name": "stdout",
          "text": [
            "100.0%\n"
          ]
        }
      ]
    },
    {
      "cell_type": "markdown",
      "source": [
        "## Second Section"
      ],
      "metadata": {
        "id": "5wYfkoa5jpx9"
      }
    },
    {
      "cell_type": "code",
      "source": [
        "for m in range(np.shape(best_S)[0]):\n",
        "  omeg_m = []\n",
        "  for n in range(np.shape(best_S)[0]):\n",
        "    omeg_mn = np.sum(np.dot(B_df.iloc[:, m], B_df.iloc[:, n]))\n",
        "    omeg_m.insert(n, omeg_mn)\n",
        "  if m == 0:\n",
        "    omeg = omeg_m\n",
        "    continue\n",
        "  omeg = np.concatenate((omeg, omeg_m))\n",
        "omeg = np.array(omeg).reshape((np.shape(best_S)[0], np.shape(best_S)[0]))"
      ],
      "metadata": {
        "id": "KKTW7CUj_gm6"
      },
      "execution_count": 104,
      "outputs": []
    },
    {
      "cell_type": "code",
      "source": [
        "H = []\n",
        "for m in range(np.shape(best_S)[0]):\n",
        "  H_j = np.sum(B_df.iloc[m, :-1])\n",
        "  H_m = np.sum(np.dot(B_df.iloc[:,m], (1-H_j)))\n",
        "  H.insert(m, H_m)"
      ],
      "metadata": {
        "id": "mtZiwxS_An-l"
      },
      "execution_count": 105,
      "outputs": []
    },
    {
      "cell_type": "code",
      "source": [
        "tau = H.copy()"
      ],
      "metadata": {
        "id": "PcYbQbSEir_6"
      },
      "execution_count": 106,
      "outputs": []
    },
    {
      "cell_type": "code",
      "source": [
        "C = []\n",
        "for m in range(np.shape(best_S)[0]):\n",
        "  c_val = 1 - np.sum(B_df.iloc[m, :-1])\n",
        "  C.insert(m, c_val)\n",
        "C = np.sum(np.square(C))"
      ],
      "metadata": {
        "id": "I173c2EVBqwx"
      },
      "execution_count": 107,
      "outputs": []
    },
    {
      "cell_type": "code",
      "source": [
        "B_df[\"y_i\"] = B_df['Class']\n",
        "B_df[\"y_i\"].replace({minor_cls: -1, major_cls: 1}, inplace=True)"
      ],
      "metadata": {
        "id": "2Qr7X3V_kDtS"
      },
      "execution_count": 108,
      "outputs": []
    },
    {
      "cell_type": "code",
      "source": [
        "P = []\n",
        "for m in range(np.shape(best_S)[0]):\n",
        "  P_m = np.sum(np.dot(B_df.iloc[:, m], B_df[\"y_i\"]))\n",
        "  P.insert(m, P_m)"
      ],
      "metadata": {
        "id": "qRZFTC96kUO3"
      },
      "execution_count": 109,
      "outputs": []
    },
    {
      "cell_type": "code",
      "source": [
        "L = np.sum(np.dot((1 - B_df.iloc[:, :-2].sum(axis=1)), B_df.iloc[:, -1]))"
      ],
      "metadata": {
        "id": "3B-5qDTekVpH"
      },
      "execution_count": 110,
      "outputs": []
    },
    {
      "cell_type": "code",
      "source": [
        "H = np.array(H).reshape((-1, 1))\n",
        "tau = np.array(tau).reshape((-1, 1))\n",
        "P = np.array(P).reshape((-1, 1))"
      ],
      "metadata": {
        "id": "z7iaLwGbru6B"
      },
      "execution_count": 111,
      "outputs": []
    },
    {
      "cell_type": "code",
      "source": [
        "row_a = np.concatenate((omeg, H), axis = 1)\n",
        "row_b = np.append(tau.transpose(), C)\n",
        "row_b = row_b.reshape((1,row_b.shape[0]))\n",
        "A = np.concatenate((row_a, row_b), axis = 0)"
      ],
      "metadata": {
        "id": "PE1vttVZR0SN"
      },
      "execution_count": 112,
      "outputs": []
    },
    {
      "cell_type": "code",
      "source": [
        "Z = np.append(P, L).reshape((-1, 1))"
      ],
      "metadata": {
        "id": "uw9RvyTNUUbA"
      },
      "execution_count": 113,
      "outputs": []
    },
    {
      "cell_type": "code",
      "source": [
        "output = np.linalg.solve(A, Z)\n",
        "y_hat = output[:SN]\n",
        "b = output[-1]"
      ],
      "metadata": {
        "id": "XDhQDXh3Xv-e"
      },
      "execution_count": 114,
      "outputs": []
    },
    {
      "cell_type": "code",
      "source": [
        "print(\"y_hat: \", y_hat)\n",
        "print(\"b: \", b)"
      ],
      "metadata": {
        "id": "NLsfi2BuYJL8",
        "outputId": "ca59879d-c780-46dc-c597-9aacc38e32fb",
        "colab": {
          "base_uri": "https://localhost:8080/"
        }
      },
      "execution_count": 115,
      "outputs": [
        {
          "output_type": "stream",
          "name": "stdout",
          "text": [
            "y_hat:  [[ -11.79106961]\n",
            " [-540.45984257]\n",
            " [  66.62182509]\n",
            " [  14.91490964]\n",
            " [ -38.68071013]\n",
            " [  61.46527967]\n",
            " [  61.35561527]\n",
            " [ 152.69065095]\n",
            " [  52.90286035]\n",
            " [   3.30857729]\n",
            " [  61.19773594]\n",
            " [-221.63505598]\n",
            " [ -26.42725182]\n",
            " [-113.94227982]\n",
            " [  65.42225516]\n",
            " [  86.25625733]\n",
            " [ 113.84281444]\n",
            " [ -23.42023604]\n",
            " [-128.46408385]\n",
            " [ -80.80759657]\n",
            " [   4.1509602 ]\n",
            " [  21.50352623]\n",
            " [  94.23649217]\n",
            " [  11.65652643]\n",
            " [  95.93974385]\n",
            " [  60.2623079 ]\n",
            " [-301.79314282]\n",
            " [  39.20511596]\n",
            " [ -44.42669365]\n",
            " [ 153.35369486]\n",
            " [ -64.32919683]\n",
            " [-646.15529789]\n",
            " [   6.60624257]\n",
            " [  96.20855896]\n",
            " [ -42.02238657]\n",
            " [ -35.62780778]\n",
            " [  85.85455886]\n",
            " [ -34.86759911]\n",
            " [-218.82882421]\n",
            " [  -9.5769517 ]\n",
            " [  61.68815533]\n",
            " [ -20.86335726]\n",
            " [  26.82467872]\n",
            " [  15.06454151]\n",
            " [   5.51345228]\n",
            " [   3.30631205]\n",
            " [ 238.90749731]\n",
            " [ 190.18076675]\n",
            " [  95.07360364]\n",
            " [ -19.14536627]]\n",
            "b:  [-101474.82644483]\n"
          ]
        }
      ]
    },
    {
      "cell_type": "markdown",
      "source": [
        "## g(xi)"
      ],
      "metadata": {
        "id": "otogX19-37To"
      }
    },
    {
      "cell_type": "code",
      "source": [
        "B_df[\"g(xi)\"] = np.nan\n",
        "for i in range(B_df.shape[0]):\n",
        "  B_df.loc[i, \"g(xi)\"] = np.dot(B_df.iloc[i, 0:-3], (y_hat-b)) + b"
      ],
      "metadata": {
        "id": "zeW6EOazY1gL"
      },
      "execution_count": 116,
      "outputs": []
    },
    {
      "cell_type": "code",
      "source": [
        "#B_df.drop(index = 208, inplace=True)\n",
        "\n",
        "groups = B_df.groupby('Class')\n",
        "\n",
        "# Plot\n",
        "fig, ax = plt.subplots()\n",
        "ax.margins(0.05) # Optional, just adds 5% padding to the autoscaling\n",
        "for name, group in groups:\n",
        "    ax.plot(np.arange(0, group.shape[0]), group[\"g(xi)\"], marker='o', linestyle='', ms=8, label=name)\n",
        "    print(name, \" g(xi) mean value: \", np.mean(group[\"g(xi)\"]))\n",
        "ax.legend()\n",
        "plt.ylabel(\"g(xi)\")\n",
        "\n",
        "plt.show()"
      ],
      "metadata": {
        "colab": {
          "base_uri": "https://localhost:8080/",
          "height": 300
        },
        "id": "ZCcfayyE6wcP",
        "outputId": "1fc90a20-b7a7-4376-d26d-95cc0723ee71"
      },
      "execution_count": 117,
      "outputs": [
        {
          "output_type": "stream",
          "name": "stdout",
          "text": [
            "negative  g(xi) mean value:  -33869.20751374711\n",
            "positive  g(xi) mean value:  -19706.006216592188\n"
          ]
        },
        {
          "output_type": "display_data",
          "data": {
            "text/plain": [
              "<Figure size 432x288 with 1 Axes>"
            ],
            "image/png": "[encoded data removed]"
          },
          "metadata": {
            "needs_background": "light"
          }
        }
      ]
    },
    {
      "cell_type": "code",
      "source": [
        "# change threshold to change the model's performance:\n",
        "classifier_thresh = -100\n",
        "\n",
        "B_df[\"y_pred\"] = major_cls\n",
        "for i, g_xi in enumerate(B_df[\"g(xi)\"]):\n",
        "  if g_xi > classifier_thresh:\n",
        "    B_df.loc[i, \"y_pred\"] = minor_cls"
      ],
      "metadata": {
        "id": "b0sKJfT463Xn"
      },
      "execution_count": 130,
      "outputs": []
    },
    {
      "cell_type": "markdown",
      "source": [
        "## Model Evaluation"
      ],
      "metadata": {
        "id": "-_5bOv7IANQq"
      }
    },
    {
      "cell_type": "markdown",
      "source": [
        "* Confusion Matrix"
      ],
      "metadata": {
        "id": "pGfAs9fHAP9D"
      }
    },
    {
      "cell_type": "code",
      "source": [
        "cls_types= np.array([major_cls, minor_cls])"
      ],
      "metadata": {
        "id": "-gfOjgLuDcxK"
      },
      "execution_count": 131,
      "outputs": []
    },
    {
      "cell_type": "code",
      "source": [
        "Y_pred = B_df[\"y_pred\"].values\n",
        "Y_true = B_df[\"Class\"].values"
      ],
      "metadata": {
        "id": "q0mZ-IOFB8fE"
      },
      "execution_count": 132,
      "outputs": []
    },
    {
      "cell_type": "code",
      "source": [
        "cm = confusion_matrix(Y_true, Y_pred)\n",
        "plt.figure(figsize=(8, 8))\n",
        "ax = sns.heatmap(cm, cmap=plt.cm.Greens, annot=True, square=True, xticklabels=cls_types, yticklabels=cls_types)\n",
        "ax.set_ylabel('Actual')\n",
        "ax.set_xlabel('Predicted')"
      ],
      "metadata": {
        "colab": {
          "base_uri": "https://localhost:8080/",
          "height": 483
        },
        "id": "M4FvNLIeB4Lk",
        "outputId": "fd5384d8-810d-4a9d-ff13-9ef6db232508"
      },
      "execution_count": 133,
      "outputs": [
        {
          "output_type": "execute_result",
          "data": {
            "text/plain": [
              "Text(0.5, 89.87999999999997, 'Predicted')"
            ]
          },
          "metadata": {},
          "execution_count": 133
        },
        {
          "output_type": "display_data",
          "data": {
            "text/plain": [
              "<Figure size 576x576 with 2 Axes>"
            ],
            "image/png": "[encoded data removed]"
          },
          "metadata": {
            "needs_background": "light"
          }
        }
      ]
    },
    {
      "cell_type": "code",
      "source": [
        "TN = cm[0][0]\n",
        "TP = cm[1][1]\n",
        "FN = cm[0][1]\n",
        "FP = cm[1][0]\n",
        "\n",
        "TPR = TP / (TP+FN)\n",
        "TNR = TN / (TN+FP)\n",
        "precision = TP / (TP+FP)"
      ],
      "metadata": {
        "id": "76vbyURFEMOL"
      },
      "execution_count": 134,
      "outputs": []
    },
    {
      "cell_type": "code",
      "source": [
        "G_mean = np.sqrt(TPR*TNR)\n",
        "F_measure = (2*precision*TPR)/(precision+TPR)"
      ],
      "metadata": {
        "id": "mkU5DthAGWuF"
      },
      "execution_count": 135,
      "outputs": []
    },
    {
      "cell_type": "code",
      "source": [
        "print(\"G-mean for threshold of \", classifier_thresh, \" is: \", G_mean)\n",
        "print(\"F-measure for threshold of \", classifier_thresh, \" is: \", F_measure)"
      ],
      "metadata": {
        "colab": {
          "base_uri": "https://localhost:8080/"
        },
        "id": "Ni_AQWbvGbUg",
        "outputId": "e2276c58-0b6c-4d1b-dc47-f8b9f80d2710"
      },
      "execution_count": 136,
      "outputs": [
        {
          "output_type": "stream",
          "name": "stdout",
          "text": [
            "G-mean for threshold of  -100  is:  0.34935367166892417\n",
            "F-measure for threshold of  -100  is:  0.22077922077922077\n"
          ]
        }
      ]
    },
    {
      "cell_type": "code",
      "source": [
        "acc = (TP+TN) / (TP+TN+FN+FP)\n",
        "print(acc)"
      ],
      "metadata": {
        "id": "zLrFzNIgGcIn",
        "outputId": "8de19f07-d563-4c48-b1df-1d1f5c76deba",
        "colab": {
          "base_uri": "https://localhost:8080/"
        }
      },
      "execution_count": 137,
      "outputs": [
        {
          "output_type": "stream",
          "name": "stdout",
          "text": [
            "0.43661971830985913\n"
          ]
        }
      ]
    },
    {
      "cell_type": "code",
      "source": [
        "print(precision)"
      ],
      "metadata": {
        "id": "a9j7eWQjvKaP",
        "outputId": "638024a9-f244-4308-eff9-ccbe57381369",
        "colab": {
          "base_uri": "https://localhost:8080/"
        }
      },
      "execution_count": 138,
      "outputs": [
        {
          "output_type": "stream",
          "name": "stdout",
          "text": [
            "0.22666666666666666\n"
          ]
        }
      ]
    },
    {
      "cell_type": "code",
      "source": [
        ""
      ],
      "metadata": {
        "id": "rnlvj01LxQ3X"
      },
      "execution_count": null,
      "outputs": []
    }
  ]
}