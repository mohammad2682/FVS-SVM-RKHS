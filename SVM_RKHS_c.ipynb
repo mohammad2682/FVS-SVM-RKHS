{
  "cells": [
    {
      "cell_type": "markdown",
      "metadata": {
        "id": "view-in-github",
        "colab_type": "text"
      },
      "source": [
        "<a href=\"https://colab.research.google.com/github/mohammad2682/FVS-SVM-RKHS/blob/main/SVM_RKHS_c.ipynb\" target=\"_parent\"><img src=\"https://colab.research.google.com/assets/colab-badge.svg\" alt=\"Open In Colab\"/></a>"
      ]
    },
    {
      "cell_type": "code",
      "execution_count": 1,
      "metadata": {
        "id": "Ry-tH86rMUsL"
      },
      "outputs": [],
      "source": [
        "import pandas as pd\n",
        "import numpy as np\n",
        "import matplotlib.pyplot as plt\n",
        "import os\n",
        "from sklearn.metrics import confusion_matrix\n",
        "from sklearn import datasets, svm\n",
        "import seaborn as sns"
      ]
    },
    {
      "cell_type": "code",
      "execution_count": 2,
      "metadata": {
        "id": "pGRHwj2QMUsP"
      },
      "outputs": [],
      "source": [
        "N_m=5"
      ]
    },
    {
      "cell_type": "code",
      "execution_count": 3,
      "metadata": {
        "colab": {
          "base_uri": "https://localhost:8080/",
          "height": 381
        },
        "id": "Q5OPGil5MUsP",
        "outputId": "7fca6009-f60a-4d3e-ab92-9729b0d541c6"
      },
      "outputs": [
        {
          "output_type": "display_data",
          "data": {
            "text/plain": [
              "array([[-2.88470459, -3.09334521],\n",
              "       [-0.38012753,  0.50960898],\n",
              "       [ 0.08828312,  0.2825261 ],\n",
              "       [-1.08727082,  0.91207538],\n",
              "       [ 0.2095121 ,  1.87770417],\n",
              "       [-1.26292912,  0.70597421],\n",
              "       [-1.02649626,  0.67572811],\n",
              "       [-0.9910247 , -0.92034095],\n",
              "       [ 0.7250405 ,  1.11196313],\n",
              "       [-0.82696232,  1.19851322],\n",
              "       [-1.89255856,  0.40341791],\n",
              "       [-2.87618154, -3.52767119],\n",
              "       [-1.20026133, -1.15842117],\n",
              "       [ 0.04623351,  0.31605039],\n",
              "       [ 0.2248898 ,  2.1926224 ],\n",
              "       [ 0.62833321, -2.45446179],\n",
              "       [-1.87794153, -2.33296202],\n",
              "       [-1.08536788,  0.91049297],\n",
              "       [ 0.68698129, -1.99674589],\n",
              "       [-1.00349992, -1.13101638]])"
            ]
          },
          "metadata": {}
        },
        {
          "output_type": "display_data",
          "data": {
            "text/plain": [
              "array([0, 1, 0, 0, 0, 0, 0, 0, 0, 0, 0, 0, 0, 0, 0, 1, 0, 0, 1, 0])"
            ]
          },
          "metadata": {}
        }
      ],
      "source": [
        "import sklearn\n",
        "A, y=sklearn.datasets.make_classification(n_samples=20,n_features=2,n_informative=2,n_redundant=0,weights=[0.8],random_state=5)\n",
        "display(A)\n",
        "display(y)\n"
      ]
    },
    {
      "cell_type": "code",
      "execution_count": 4,
      "metadata": {
        "colab": {
          "base_uri": "https://localhost:8080/",
          "height": 34
        },
        "id": "mhYumJ48MUsR",
        "outputId": "71ab3be9-3e3b-46e5-cd92-4537056ff34c"
      },
      "outputs": [
        {
          "output_type": "display_data",
          "data": {
            "text/plain": [
              "array([0, 1, 0, 0, 0, 0, 0, 0, 0, 0, 0, 0, 0, 0, 0, 1, 0, 0, 1, 0])"
            ]
          },
          "metadata": {}
        }
      ],
      "source": [
        "display(y)"
      ]
    },
    {
      "cell_type": "code",
      "execution_count": 5,
      "metadata": {
        "id": "Nokbi8NlMUsS"
      },
      "outputs": [],
      "source": [
        "def sigma(A):\n",
        "    N = A.shape[0]\n",
        "    sigma = []\n",
        "    for i in range(N):\n",
        "        for j in range(i+1, N):\n",
        "            sigma.append(np.square(np.linalg.norm(A[i,:]-A[j,:])))\n",
        "\n",
        "    return 0.1 * np.max(sigma)"
      ]
    },
    {
      "cell_type": "code",
      "execution_count": 6,
      "metadata": {
        "colab": {
          "base_uri": "https://localhost:8080/"
        },
        "id": "8PPzNFhLMUsT",
        "outputId": "00d99bf9-0ffe-48bc-da2d-f1c129417994"
      },
      "outputs": [
        {
          "output_type": "stream",
          "name": "stdout",
          "text": [
            "4.233840225882515\n"
          ]
        }
      ],
      "source": [
        "sig=sigma(A)\n",
        "print(sig)"
      ]
    },
    {
      "cell_type": "code",
      "execution_count": 7,
      "metadata": {
        "id": "9F_6yKAsMUsU"
      },
      "outputs": [],
      "source": [
        "def K(FV1, FV2):\n",
        "    dist = np.linalg.norm(FV1-FV2)\n",
        "    return np.exp(-1*np.square(dist)/(2*sig))"
      ]
    },
    {
      "cell_type": "code",
      "execution_count": 8,
      "metadata": {
        "id": "2Gn7TrwlMUsU"
      },
      "outputs": [],
      "source": [
        "def give_KSS(S):\n",
        "    KSS = []\n",
        "    for i in S:\n",
        "        for j in S:\n",
        "            KSS.append( K(A[i,:], A[j,:]))\n",
        "\n",
        "    return np.array(KSS).reshape((len(S), len(S)))"
      ]
    },
    {
      "cell_type": "code",
      "execution_count": 9,
      "metadata": {
        "id": "d_2rXtSnMUsV"
      },
      "outputs": [],
      "source": [
        "def give_KSx(S, x):\n",
        "    KSx = []\n",
        "    for i in S:\n",
        "        kx = K(A[i,:], x)\n",
        "        KSx.append(kx)\n",
        "    return np.array(KSx).reshape((len(S), 1))"
      ]
    },
    {
      "cell_type": "code",
      "execution_count": 10,
      "metadata": {
        "id": "PuyX6cwqMUsW"
      },
      "outputs": [],
      "source": [
        "def give_beta(S, x):\n",
        "    KSx = give_KSx(S, x).reshape(len(S), 1)\n",
        "    KSS = give_KSS(S)\n",
        "    DSS = np.diag(np.diag(np.sqrt(KSS)))\n",
        "    beta = np.dot(np.dot(np.transpose(KSx), np.linalg.inv(KSS)), DSS)\n",
        "    return beta"
      ]
    },
    {
      "cell_type": "code",
      "execution_count": 17,
      "metadata": {
        "colab": {
          "base_uri": "https://localhost:8080/"
        },
        "id": "5BveU0LsMUsW",
        "outputId": "b68ac65d-b93a-423c-ec20-b0b08448a1f4"
      },
      "outputs": [
        {
          "output_type": "stream",
          "name": "stdout",
          "text": [
            "3.5000000000000027\n",
            "2.248355879203173e+32\n",
            "2.1982031596754932e+32\n",
            "[15, 14, 11, 10, 2]\n"
          ]
        },
        {
          "output_type": "execute_result",
          "data": {
            "text/plain": [
              "array([[ 0.62833321, -2.45446179],\n",
              "       [ 0.2248898 ,  2.1926224 ],\n",
              "       [-2.87618154, -3.52767119],\n",
              "       [-1.89255856,  0.40341791],\n",
              "       [ 0.08828312,  0.2825261 ]])"
            ]
          },
          "metadata": {},
          "execution_count": 17
        }
      ],
      "source": [
        "minor_index=np.where(y==1)[0].tolist()\n",
        "lambdamax=-np.inf\n",
        "best_iter=-1\n",
        "counter=0\n",
        "total_S=[]\n",
        "lam = []\n",
        "for i in minor_index:\n",
        "    current_S=[i]\n",
        "    ctrl=1\n",
        "    while (len(current_S)<N_m and ctrl==1):\n",
        "        current_inv =np.linalg.inv(give_KSS(current_S))\n",
        "        max_LF=-np.inf\n",
        "        max_LF_index=-1\n",
        "        remaining=list(set(range(A.shape[0]))-set(current_S))\n",
        "        #print(remaining)\n",
        "        for j in remaining:\n",
        "            KSx=give_KSx(current_S,A[j,:])\n",
        "            LF =abs(1-((KSx.T).dot(current_inv).dot(KSx)))\n",
        "            if LF> max_LF:\n",
        "                max_LF=LF\n",
        "                max_LF_index=j\n",
        "        if(max_LF<0.001):\n",
        "            ctrl=0\n",
        "        else:\n",
        "            current_S.append(max_LF_index)\n",
        "    total_S.append(current_S)\n",
        "    \n",
        "    S0=list(set(current_S)& (set(range(A.shape[0]))-set(minor_index)))\n",
        "    S1=list(set(current_S) & set(minor_index))\n",
        "    B0=np.zeros((len(S0),len(current_S) ))\n",
        "    B1=np.zeros((len(S1), len(current_S)))\n",
        "    rownum=0\n",
        "    for k in S0:\n",
        "        B0[rownum,:]=give_beta(current_S, A[k,:]).flatten()\n",
        "        rownum=rownum+1\n",
        "    rownum=0\n",
        "    for k in S1:\n",
        "        B1[rownum,:]=give_beta(current_S, A[k,:]).flatten()\n",
        "        rownum=rownum+1\n",
        "        \n",
        "    mean0=B0.mean(axis=0)\n",
        "    mean1=B1.mean(axis=0)\n",
        "    \n",
        "    var0=B0.var(axis=0)\n",
        "    var1=B1.var(axis=0)\n",
        "    \n",
        "    lam.append(((mean0-mean1)**2)/(var0+var1))\n",
        "\n",
        "    total_lam=np.sum(lam)/np.shape(lam)[0]\n",
        "    print(total_lam)\n",
        "    if(lambdamax<total_lam):\n",
        "        lambdamax=total_lam\n",
        "        best_iter=counter\n",
        "    counter=counter+1\n",
        "\n",
        "print(total_S[best_iter])\n",
        "\n",
        "\n",
        "A[total_S[best_iter],:]\n",
        "\n",
        "\n",
        "        \n",
        "    \n",
        "    \n",
        "    "
      ]
    },
    {
      "cell_type": "code",
      "execution_count": 18,
      "metadata": {
        "id": "_HYlF84UMUsY"
      },
      "outputs": [],
      "source": [
        "model = svm.SVC(kernel = \"rbf\", gamma = sig)"
      ]
    },
    {
      "cell_type": "code",
      "execution_count": 24,
      "metadata": {
        "colab": {
          "base_uri": "https://localhost:8080/"
        },
        "id": "zY_2C7vEMUsZ",
        "outputId": "c5595e61-a4e2-4c73-91b4-f8c84c8661a2"
      },
      "outputs": [
        {
          "output_type": "execute_result",
          "data": {
            "text/plain": [
              "SVC(gamma=4.233840225882515)"
            ]
          },
          "metadata": {},
          "execution_count": 24
        }
      ],
      "source": [
        "model.fit(A[total_S[best_iter],:], y[total_S[best_iter]])"
      ]
    },
    {
      "cell_type": "code",
      "execution_count": 25,
      "metadata": {
        "colab": {
          "base_uri": "https://localhost:8080/"
        },
        "id": "zw_7YLDsMUsa",
        "outputId": "224eeeb9-effd-4187-aec2-27c463cc7cb4"
      },
      "outputs": [
        {
          "output_type": "execute_result",
          "data": {
            "text/plain": [
              "0.9"
            ]
          },
          "metadata": {},
          "execution_count": 25
        }
      ],
      "source": [
        "model.score(A, y)"
      ]
    },
    {
      "cell_type": "code",
      "execution_count": 27,
      "metadata": {
        "id": "JRr80fmMMUsa"
      },
      "outputs": [],
      "source": [
        "# Enter minor major labels\n",
        "minor_cls = 0\n",
        "major_cls = 1\n",
        "cls_types= np.array([major_cls, minor_cls])"
      ]
    },
    {
      "cell_type": "code",
      "execution_count": 28,
      "metadata": {
        "colab": {
          "base_uri": "https://localhost:8080/"
        },
        "id": "icgSaoWiMUsb",
        "outputId": "63d831f5-705d-4cfe-c1ee-fd78316b3978"
      },
      "outputs": [
        {
          "output_type": "execute_result",
          "data": {
            "text/plain": [
              "array([1, 0])"
            ]
          },
          "metadata": {},
          "execution_count": 28
        }
      ],
      "source": [
        "cls_types"
      ]
    },
    {
      "cell_type": "code",
      "execution_count": 29,
      "metadata": {
        "colab": {
          "base_uri": "https://localhost:8080/",
          "height": 489
        },
        "id": "R4g7XSeaMUsb",
        "outputId": "6ac232f8-0ec7-4d91-e581-9771a3ca8f5c"
      },
      "outputs": [
        {
          "output_type": "execute_result",
          "data": {
            "text/plain": [
              "Text(0.5, 89.87999999999997, 'Predicted')"
            ]
          },
          "metadata": {},
          "execution_count": 29
        },
        {
          "output_type": "display_data",
          "data": {
            "text/plain": [
              "<Figure size 576x576 with 2 Axes>"
            ],
            "image/png": "[encoded data removed]"
          },
          "metadata": {
            "needs_background": "light"
          }
        }
      ],
      "source": [
        "Y_pred = model.predict(A)\n",
        "Y_true = y\n",
        "cm = confusion_matrix(Y_true, Y_pred)\n",
        "plt.figure(figsize=(8, 8))\n",
        "ax = sns.heatmap(cm, cmap=plt.cm.Greens, annot=True, square=True, xticklabels=cls_types, yticklabels=cls_types)\n",
        "ax.set_ylabel('Actual')\n",
        "ax.set_xlabel('Predicted')"
      ]
    },
    {
      "cell_type": "code",
      "execution_count": 30,
      "metadata": {
        "id": "3Qva_LQgMUsc"
      },
      "outputs": [],
      "source": [
        "TN = cm[0][0]\n",
        "TP = cm[1][1]\n",
        "FN = cm[0][1]\n",
        "FP = cm[1][0]\n",
        "\n",
        "TPR = TP / (TP+FN)\n",
        "TNR = TN / (TN+FP)\n",
        "precision = TP / (TP+FP)\n",
        "recall=TP/(TP+FN)                  "
      ]
    },
    {
      "cell_type": "code",
      "execution_count": 31,
      "metadata": {
        "colab": {
          "base_uri": "https://localhost:8080/"
        },
        "id": "PQph7TI6MUsd",
        "outputId": "aacb1dab-7be5-4106-d5de-fcf0a480e7d9"
      },
      "outputs": [
        {
          "output_type": "stream",
          "name": "stdout",
          "text": [
            "0.9459053029269173\n",
            "0.5\n",
            "0.3333333333333333\n",
            "1.0\n"
          ]
        }
      ],
      "source": [
        "G_mean = np.sqrt(TPR*TNR)\n",
        "F_measure = (2*precision*TPR)/(precision+TPR)\n",
        "\n",
        "print(G_mean)\n",
        "print(F_measure)\n",
        "print(precision)\n",
        "print(recall)"
      ]
    },
    {
      "cell_type": "code",
      "source": [
        ""
      ],
      "metadata": {
        "id": "WAAt6n6ONyHQ"
      },
      "execution_count": null,
      "outputs": []
    }
  ],
  "metadata": {
    "kernelspec": {
      "display_name": "Python 3 (ipykernel)",
      "language": "python",
      "name": "python3"
    },
    "language_info": {
      "codemirror_mode": {
        "name": "ipython",
        "version": 3
      },
      "file_extension": ".py",
      "mimetype": "text/x-python",
      "name": "python",
      "nbconvert_exporter": "python",
      "pygments_lexer": "ipython3",
      "version": "3.9.12"
    },
    "colab": {
      "name": "SVM_RKHS_c.ipynb",
      "provenance": [],
      "include_colab_link": true
    }
  },
  "nbformat": 4,
  "nbformat_minor": 0
}